{
 "cells": [
  {
   "cell_type": "code",
   "execution_count": 21,
   "id": "515e13c1",
   "metadata": {},
   "outputs": [],
   "source": [
    "from pyspark.sql import SparkSession\n",
    "import getpass\n",
    "username = getpass.getuser()\n",
    "\n",
    "spark= SparkSession. \\\n",
    "builder. \\\n",
    "config('spark.ui.port','0'). \\\n",
    "config(\"spark.sql.warehouse.dir\", f\"/user/{username}/warehouse\"). \\\n",
    "enableHiveSupport(). \\\n",
    "master('yarn'). \\\n",
    "getOrCreate()"
   ]
  },
  {
   "cell_type": "code",
   "execution_count": 22,
   "id": "05d6bf7a",
   "metadata": {},
   "outputs": [],
   "source": [
    "customer_schema = \"\"\"member_id string, emp_title string, emp_length string, home_ownership string, \n",
    "annual_inc float, addr_state string, zip_code string, country string, grade string, sub_grade string, \n",
    "verification_status string, tot_hi_cred_lim float, application_type string, annual_inc_joint float, \n",
    "verification_status_joint string\"\"\""
   ]
  },
  {
   "cell_type": "code",
   "execution_count": 23,
   "id": "00373cbc",
   "metadata": {},
   "outputs": [],
   "source": [
    "customer_raw_df = spark.read \\\n",
    ".format(\"csv\") \\\n",
    ".option(\"header\",True) \\\n",
    ".schema(customer_schema) \\\n",
    ".load(\"/public/trendytech/lendingclubproject/raw/customers_data_csv\")"
   ]
  },
  {
   "cell_type": "code",
   "execution_count": 24,
   "id": "e3d87f59",
   "metadata": {},
   "outputs": [
    {
     "name": "stdout",
     "output_type": "stream",
     "text": [
      "root\n",
      " |-- member_id: string (nullable = true)\n",
      " |-- emp_title: string (nullable = true)\n",
      " |-- emp_length: string (nullable = true)\n",
      " |-- home_ownership: string (nullable = true)\n",
      " |-- annual_inc: float (nullable = true)\n",
      " |-- addr_state: string (nullable = true)\n",
      " |-- zip_code: string (nullable = true)\n",
      " |-- country: string (nullable = true)\n",
      " |-- grade: string (nullable = true)\n",
      " |-- sub_grade: string (nullable = true)\n",
      " |-- verification_status: string (nullable = true)\n",
      " |-- tot_hi_cred_lim: float (nullable = true)\n",
      " |-- application_type: string (nullable = true)\n",
      " |-- annual_inc_joint: float (nullable = true)\n",
      " |-- verification_status_joint: string (nullable = true)\n",
      "\n"
     ]
    }
   ],
   "source": [
    "customer_raw_df.printSchema()"
   ]
  },
  {
   "cell_type": "code",
   "execution_count": 25,
   "id": "8496a32e",
   "metadata": {},
   "outputs": [],
   "source": [
    "customer_df_renamed = customer_raw_df.withColumnRenamed(\"annual_inc\",\"Annual_income\")\\\n",
    ".withColumnRenamed(\"addr_state\", \"address_state\")\\\n",
    ".withColumnRenamed(\"zip_code\", \"address_zipcode\")\\\n",
    ".withColumnRenamed(\"country\", \"address_country\")\\\n",
    ".withColumnRenamed(\"tot_hi_cred_lim\", \"total_high_credit_limit\")\\\n",
    ".withColumnRenamed(\"annual_inc_joint\", \"join_annual_income\")"
   ]
  },
  {
   "cell_type": "code",
   "execution_count": 26,
   "id": "c6fa084a",
   "metadata": {},
   "outputs": [
    {
     "data": {
      "text/html": [
       "<table border='1'>\n",
       "<tr><th>member_id</th><th>emp_title</th><th>emp_length</th><th>home_ownership</th><th>Annual_income</th><th>address_state</th><th>address_zipcode</th><th>address_country</th><th>grade</th><th>sub_grade</th><th>verification_status</th><th>total_high_credit_limit</th><th>application_type</th><th>join_annual_income</th><th>verification_status_joint</th></tr>\n",
       "<tr><td>b59d80da191f5b573...</td><td>null</td><td>null</td><td>RENT</td><td>50000.0</td><td>OR</td><td>973xx</td><td>USA</td><td>A</td><td>A5</td><td>Source Verified</td><td>8600.0</td><td>Individual</td><td>null</td><td>null</td></tr>\n",
       "<tr><td>202d9f56ecb7c3bc9...</td><td>police officer</td><td>7 years</td><td>OWN</td><td>85000.0</td><td>TX</td><td>799xx</td><td>USA</td><td>A</td><td>A5</td><td>Source Verified</td><td>272384.0</td><td>Individual</td><td>null</td><td>null</td></tr>\n",
       "<tr><td>e5a140c0922b554b9...</td><td>community living ...</td><td>6 years</td><td>RENT</td><td>48000.0</td><td>NY</td><td>146xx</td><td>USA</td><td>B</td><td>B2</td><td>Source Verified</td><td>85092.0</td><td>Individual</td><td>null</td><td>null</td></tr>\n",
       "<tr><td>e12aefc548f750777...</td><td>Office</td><td>10+ years</td><td>OWN</td><td>33000.0</td><td>CT</td><td>067xx</td><td>USA</td><td>F</td><td>F1</td><td>Verified</td><td>7100.0</td><td>Individual</td><td>null</td><td>null</td></tr>\n",
       "<tr><td>1b3a50d854fbbf97e...</td><td>Special Tooling I...</td><td>10+ years</td><td>MORTGAGE</td><td>81000.0</td><td>TX</td><td>791xx</td><td>USA</td><td>E</td><td>E5</td><td>Verified</td><td>190274.0</td><td>Individual</td><td>null</td><td>null</td></tr>\n",
       "<tr><td>1c4329e5f17697127...</td><td>Mine ops tech 6</td><td>2 years</td><td>MORTGAGE</td><td>68000.0</td><td>AZ</td><td>855xx</td><td>USA</td><td>C</td><td>C3</td><td>Not Verified</td><td>182453.0</td><td>Individual</td><td>null</td><td>null</td></tr>\n",
       "<tr><td>5026c86ad983175eb...</td><td>caregiver</td><td>4 years</td><td>RENT</td><td>76020.0</td><td>WA</td><td>993xx</td><td>USA</td><td>C</td><td>C2</td><td>Source Verified</td><td>15308.0</td><td>Individual</td><td>null</td><td>null</td></tr>\n",
       "<tr><td>9847d8c1e9d0b2084...</td><td>null</td><td>null</td><td>OWN</td><td>65000.0</td><td>IL</td><td>624xx</td><td>USA</td><td>E</td><td>E3</td><td>Verified</td><td>128800.0</td><td>Individual</td><td>null</td><td>null</td></tr>\n",
       "<tr><td>8340dbe1adea41fb4...</td><td>Vice President Re...</td><td>8 years</td><td>MORTGAGE</td><td>111000.0</td><td>CT</td><td>063xx</td><td>USA</td><td>A</td><td>A1</td><td>Not Verified</td><td>343507.0</td><td>Individual</td><td>null</td><td>null</td></tr>\n",
       "<tr><td>d4de0de3ab7d79ad4...</td><td>FOREMAN</td><td>10+ years</td><td>MORTGAGE</td><td>67000.0</td><td>WA</td><td>992xx</td><td>USA</td><td>G</td><td>G2</td><td>Verified</td><td>211501.0</td><td>Individual</td><td>null</td><td>null</td></tr>\n",
       "<tr><td>3df3cdeddb74a8712...</td><td>Strategist</td><td>1 year</td><td>RENT</td><td>120000.0</td><td>CA</td><td>946xx</td><td>USA</td><td>A</td><td>A5</td><td>Verified</td><td>56844.0</td><td>Individual</td><td>null</td><td>null</td></tr>\n",
       "<tr><td>9dd72636b1b4045b4...</td><td>Office Manager</td><td>2 years</td><td>RENT</td><td>52000.0</td><td>FL</td><td>327xx</td><td>USA</td><td>D</td><td>D1</td><td>Source Verified</td><td>39393.0</td><td>Individual</td><td>null</td><td>null</td></tr>\n",
       "<tr><td>1d4e1ef4353b73c00...</td><td>Electrician</td><td>2 years</td><td>MORTGAGE</td><td>50000.0</td><td>IL</td><td>606xx</td><td>USA</td><td>C</td><td>C3</td><td>Not Verified</td><td>66064.0</td><td>Individual</td><td>null</td><td>null</td></tr>\n",
       "<tr><td>6f196952e71277fd4...</td><td>Finance Manager</td><td>1 year</td><td>MORTGAGE</td><td>125000.0</td><td>GA</td><td>310xx</td><td>USA</td><td>E</td><td>E2</td><td>Source Verified</td><td>555591.0</td><td>Individual</td><td>null</td><td>null</td></tr>\n",
       "<tr><td>9c617cbc6e3e3d6a1...</td><td>Nurse practitioner</td><td>5 years</td><td>MORTGAGE</td><td>165000.0</td><td>IL</td><td>610xx</td><td>USA</td><td>F</td><td>F1</td><td>Source Verified</td><td>366113.0</td><td>Individual</td><td>null</td><td>null</td></tr>\n",
       "<tr><td>45eb04dd75400a942...</td><td>equipment operator</td><td>3 years</td><td>MORTGAGE</td><td>60000.0</td><td>CT</td><td>064xx</td><td>USA</td><td>C</td><td>C4</td><td>Source Verified</td><td>198693.0</td><td>Individual</td><td>null</td><td>null</td></tr>\n",
       "<tr><td>08d233c81f9e50726...</td><td>caregiver</td><td>2 years</td><td>RENT</td><td>36000.0</td><td>MO</td><td>648xx</td><td>USA</td><td>C</td><td>C1</td><td>Source Verified</td><td>14477.0</td><td>Individual</td><td>null</td><td>null</td></tr>\n",
       "<tr><td>8ff4d0ed17a1cab92...</td><td>owner</td><td>10+ years</td><td>MORTGAGE</td><td>28000.0</td><td>CO</td><td>801xx</td><td>USA</td><td>D</td><td>D1</td><td>Verified</td><td>314400.0</td><td>Individual</td><td>null</td><td>null</td></tr>\n",
       "<tr><td>aec13cfd611b2cfea...</td><td>Community Supervi...</td><td>2 years</td><td>RENT</td><td>33000.0</td><td>GA</td><td>306xx</td><td>USA</td><td>D</td><td>D2</td><td>Source Verified</td><td>188700.0</td><td>Individual</td><td>null</td><td>null</td></tr>\n",
       "<tr><td>9ba8c96ccba6cd1f0...</td><td>Contract Specialist</td><td>5 years</td><td>MORTGAGE</td><td>74700.0</td><td>UT</td><td>844xx</td><td>USA</td><td>D</td><td>D4</td><td>Verified</td><td>614272.0</td><td>Individual</td><td>null</td><td>null</td></tr>\n",
       "</table>\n",
       "only showing top 20 rows\n"
      ],
      "text/plain": [
       "+--------------------+--------------------+----------+--------------+-------------+-------------+---------------+---------------+-----+---------+-------------------+-----------------------+----------------+------------------+-------------------------+\n",
       "|           member_id|           emp_title|emp_length|home_ownership|Annual_income|address_state|address_zipcode|address_country|grade|sub_grade|verification_status|total_high_credit_limit|application_type|join_annual_income|verification_status_joint|\n",
       "+--------------------+--------------------+----------+--------------+-------------+-------------+---------------+---------------+-----+---------+-------------------+-----------------------+----------------+------------------+-------------------------+\n",
       "|b59d80da191f5b573...|                null|      null|          RENT|      50000.0|           OR|          973xx|            USA|    A|       A5|    Source Verified|                 8600.0|      Individual|              null|                     null|\n",
       "|202d9f56ecb7c3bc9...|      police officer|   7 years|           OWN|      85000.0|           TX|          799xx|            USA|    A|       A5|    Source Verified|               272384.0|      Individual|              null|                     null|\n",
       "|e5a140c0922b554b9...|community living ...|   6 years|          RENT|      48000.0|           NY|          146xx|            USA|    B|       B2|    Source Verified|                85092.0|      Individual|              null|                     null|\n",
       "|e12aefc548f750777...|              Office| 10+ years|           OWN|      33000.0|           CT|          067xx|            USA|    F|       F1|           Verified|                 7100.0|      Individual|              null|                     null|\n",
       "|1b3a50d854fbbf97e...|Special Tooling I...| 10+ years|      MORTGAGE|      81000.0|           TX|          791xx|            USA|    E|       E5|           Verified|               190274.0|      Individual|              null|                     null|\n",
       "|1c4329e5f17697127...|     Mine ops tech 6|   2 years|      MORTGAGE|      68000.0|           AZ|          855xx|            USA|    C|       C3|       Not Verified|               182453.0|      Individual|              null|                     null|\n",
       "|5026c86ad983175eb...|           caregiver|   4 years|          RENT|      76020.0|           WA|          993xx|            USA|    C|       C2|    Source Verified|                15308.0|      Individual|              null|                     null|\n",
       "|9847d8c1e9d0b2084...|                null|      null|           OWN|      65000.0|           IL|          624xx|            USA|    E|       E3|           Verified|               128800.0|      Individual|              null|                     null|\n",
       "|8340dbe1adea41fb4...|Vice President Re...|   8 years|      MORTGAGE|     111000.0|           CT|          063xx|            USA|    A|       A1|       Not Verified|               343507.0|      Individual|              null|                     null|\n",
       "|d4de0de3ab7d79ad4...|             FOREMAN| 10+ years|      MORTGAGE|      67000.0|           WA|          992xx|            USA|    G|       G2|           Verified|               211501.0|      Individual|              null|                     null|\n",
       "|3df3cdeddb74a8712...|          Strategist|    1 year|          RENT|     120000.0|           CA|          946xx|            USA|    A|       A5|           Verified|                56844.0|      Individual|              null|                     null|\n",
       "|9dd72636b1b4045b4...|      Office Manager|   2 years|          RENT|      52000.0|           FL|          327xx|            USA|    D|       D1|    Source Verified|                39393.0|      Individual|              null|                     null|\n",
       "|1d4e1ef4353b73c00...|         Electrician|   2 years|      MORTGAGE|      50000.0|           IL|          606xx|            USA|    C|       C3|       Not Verified|                66064.0|      Individual|              null|                     null|\n",
       "|6f196952e71277fd4...|     Finance Manager|    1 year|      MORTGAGE|     125000.0|           GA|          310xx|            USA|    E|       E2|    Source Verified|               555591.0|      Individual|              null|                     null|\n",
       "|9c617cbc6e3e3d6a1...|  Nurse practitioner|   5 years|      MORTGAGE|     165000.0|           IL|          610xx|            USA|    F|       F1|    Source Verified|               366113.0|      Individual|              null|                     null|\n",
       "|45eb04dd75400a942...|  equipment operator|   3 years|      MORTGAGE|      60000.0|           CT|          064xx|            USA|    C|       C4|    Source Verified|               198693.0|      Individual|              null|                     null|\n",
       "|08d233c81f9e50726...|           caregiver|   2 years|          RENT|      36000.0|           MO|          648xx|            USA|    C|       C1|    Source Verified|                14477.0|      Individual|              null|                     null|\n",
       "|8ff4d0ed17a1cab92...|               owner| 10+ years|      MORTGAGE|      28000.0|           CO|          801xx|            USA|    D|       D1|           Verified|               314400.0|      Individual|              null|                     null|\n",
       "|aec13cfd611b2cfea...|Community Supervi...|   2 years|          RENT|      33000.0|           GA|          306xx|            USA|    D|       D2|    Source Verified|               188700.0|      Individual|              null|                     null|\n",
       "|9ba8c96ccba6cd1f0...| Contract Specialist|   5 years|      MORTGAGE|      74700.0|           UT|          844xx|            USA|    D|       D4|           Verified|               614272.0|      Individual|              null|                     null|\n",
       "+--------------------+--------------------+----------+--------------+-------------+-------------+---------------+---------------+-----+---------+-------------------+-----------------------+----------------+------------------+-------------------------+\n",
       "only showing top 20 rows"
      ]
     },
     "execution_count": 26,
     "metadata": {},
     "output_type": "execute_result"
    }
   ],
   "source": [
    "customer_df_renamed"
   ]
  },
  {
   "cell_type": "code",
   "execution_count": 27,
   "id": "b71a9579",
   "metadata": {},
   "outputs": [],
   "source": [
    "from pyspark.sql.functions import *"
   ]
  },
  {
   "cell_type": "code",
   "execution_count": 28,
   "id": "8e3ba603",
   "metadata": {},
   "outputs": [],
   "source": [
    "customer_df_ingest = customer_df_renamed.withColumn(\"ingest_date\",current_timestamp())"
   ]
  },
  {
   "cell_type": "code",
   "execution_count": 29,
   "id": "a79dd4dd",
   "metadata": {},
   "outputs": [
    {
     "data": {
      "text/plain": [
       "2260701"
      ]
     },
     "execution_count": 29,
     "metadata": {},
     "output_type": "execute_result"
    }
   ],
   "source": [
    "customer_df_ingest.count()"
   ]
  },
  {
   "cell_type": "code",
   "execution_count": 30,
   "id": "c1edf617",
   "metadata": {},
   "outputs": [],
   "source": [
    "customer_disctinct = customer_df_ingest.distinct()"
   ]
  },
  {
   "cell_type": "code",
   "execution_count": 31,
   "id": "c5590607",
   "metadata": {},
   "outputs": [
    {
     "data": {
      "text/plain": [
       "2260638"
      ]
     },
     "execution_count": 31,
     "metadata": {},
     "output_type": "execute_result"
    }
   ],
   "source": [
    "customer_disctinct.count()"
   ]
  },
  {
   "cell_type": "code",
   "execution_count": 32,
   "id": "9f3e4c25",
   "metadata": {},
   "outputs": [],
   "source": [
    "customer_disctinct.createOrReplaceTempView(\"customers\")"
   ]
  },
  {
   "cell_type": "code",
   "execution_count": 33,
   "id": "056da78f",
   "metadata": {},
   "outputs": [],
   "source": [
    "customers_income_filtered_df = spark.sql(\"select * from customers where annual_income is not null\")"
   ]
  },
  {
   "cell_type": "code",
   "execution_count": 34,
   "id": "fb0f9f06",
   "metadata": {},
   "outputs": [],
   "source": [
    "customers_income_filtered_df.createOrReplaceTempView(\"customers\")"
   ]
  },
  {
   "cell_type": "code",
   "execution_count": 35,
   "id": "390472eb",
   "metadata": {},
   "outputs": [
    {
     "data": {
      "text/html": [
       "<table border='1'>\n",
       "<tr><th>count(1)</th></tr>\n",
       "<tr><td>0</td></tr>\n",
       "</table>\n"
      ],
      "text/plain": [
       "+--------+\n",
       "|count(1)|\n",
       "+--------+\n",
       "|       0|\n",
       "+--------+"
      ]
     },
     "execution_count": 35,
     "metadata": {},
     "output_type": "execute_result"
    }
   ],
   "source": [
    "spark.sql(\"select count(*) from customers where annual_income is null\")"
   ]
  },
  {
   "cell_type": "code",
   "execution_count": 36,
   "id": "9a5f36ef",
   "metadata": {},
   "outputs": [
    {
     "data": {
      "text/html": [
       "<table border='1'>\n",
       "<tr><th>member_id</th><th>emp_title</th><th>emp_length</th><th>home_ownership</th><th>Annual_income</th><th>address_state</th><th>address_zipcode</th><th>address_country</th><th>grade</th><th>sub_grade</th><th>verification_status</th><th>total_high_credit_limit</th><th>application_type</th><th>join_annual_income</th><th>verification_status_joint</th><th>ingest_date</th></tr>\n",
       "<tr><td>8d248cb98540c2328...</td><td>Server</td><td>6 years</td><td>RENT</td><td>45000.0</td><td>IL</td><td>601xx</td><td>USA</td><td>A</td><td>A2</td><td>Not Verified</td><td>95723.0</td><td>Individual</td><td>null</td><td>null</td><td>2025-03-30 05:49:...</td></tr>\n",
       "<tr><td>14f6f68226731dd5f...</td><td>AVP-MANAGER CD/IRA</td><td>10+ years</td><td>MORTGAGE</td><td>78000.0</td><td>PA</td><td>161xx</td><td>USA</td><td>A</td><td>A1</td><td>Source Verified</td><td>222610.0</td><td>Individual</td><td>null</td><td>null</td><td>2025-03-30 05:49:...</td></tr>\n",
       "<tr><td>ed48e5bdbc3935fc9...</td><td>dental hygienist</td><td>2 years</td><td>OWN</td><td>75000.0</td><td>NY</td><td>104xx</td><td>USA</td><td>A</td><td>A2</td><td>Not Verified</td><td>65501.0</td><td>Individual</td><td>null</td><td>null</td><td>2025-03-30 05:49:...</td></tr>\n",
       "<tr><td>c8d1c8c4eb457b075...</td><td>Director</td><td>4 years</td><td>MORTGAGE</td><td>450000.0</td><td>IL</td><td>606xx</td><td>USA</td><td>A</td><td>A4</td><td>Source Verified</td><td>1421095.0</td><td>Individual</td><td>null</td><td>null</td><td>2025-03-30 05:49:...</td></tr>\n",
       "<tr><td>9979a29daa7bdd637...</td><td>null</td><td>null</td><td>MORTGAGE</td><td>0.0</td><td>OH</td><td>452xx</td><td>USA</td><td>B</td><td>B4</td><td>Not Verified</td><td>186919.0</td><td>Joint App</td><td>90000.0</td><td>Not Verified</td><td>2025-03-30 05:49:...</td></tr>\n",
       "<tr><td>8fc7f262d9fc48246...</td><td>Directing Manager...</td><td>3 years</td><td>MORTGAGE</td><td>163650.0</td><td>TX</td><td>770xx</td><td>USA</td><td>D</td><td>D5</td><td>Not Verified</td><td>195023.0</td><td>Individual</td><td>null</td><td>null</td><td>2025-03-30 05:49:...</td></tr>\n",
       "<tr><td>bd8d3ffaa056370c1...</td><td>Scan clerk</td><td>10+ years</td><td>OWN</td><td>42000.0</td><td>CO</td><td>809xx</td><td>USA</td><td>B</td><td>B1</td><td>Source Verified</td><td>96835.0</td><td>Individual</td><td>null</td><td>null</td><td>2025-03-30 05:49:...</td></tr>\n",
       "<tr><td>657644fb3bcb71bfb...</td><td>null</td><td>&lt; 1 year</td><td>MORTGAGE</td><td>109000.0</td><td>HI</td><td>967xx</td><td>USA</td><td>F</td><td>F1</td><td>Verified</td><td>12800.0</td><td>Individual</td><td>null</td><td>null</td><td>2025-03-30 05:49:...</td></tr>\n",
       "<tr><td>8cb9698af6bfa16ae...</td><td>null</td><td>null</td><td>MORTGAGE</td><td>75000.0</td><td>WI</td><td>530xx</td><td>USA</td><td>A</td><td>A2</td><td>Verified</td><td>224737.0</td><td>Individual</td><td>null</td><td>null</td><td>2025-03-30 05:49:...</td></tr>\n",
       "<tr><td>f03c53d83906bbbed...</td><td>LINE SERVICE</td><td>10+ years</td><td>MORTGAGE</td><td>50000.0</td><td>IL</td><td>622xx</td><td>USA</td><td>D</td><td>D1</td><td>Verified</td><td>88100.0</td><td>Individual</td><td>null</td><td>null</td><td>2025-03-30 05:49:...</td></tr>\n",
       "<tr><td>ae13fd198ce82563e...</td><td>Team Manager</td><td>4 years</td><td>RENT</td><td>84500.0</td><td>CO</td><td>801xx</td><td>USA</td><td>C</td><td>C1</td><td>Source Verified</td><td>64357.0</td><td>Individual</td><td>null</td><td>null</td><td>2025-03-30 05:49:...</td></tr>\n",
       "<tr><td>312785c4e3548e015...</td><td>Associate Attorney</td><td>3 years</td><td>MORTGAGE</td><td>80000.0</td><td>OK</td><td>730xx</td><td>USA</td><td>B</td><td>B4</td><td>Source Verified</td><td>132884.0</td><td>Individual</td><td>null</td><td>null</td><td>2025-03-30 05:49:...</td></tr>\n",
       "<tr><td>d46e061457e101dbc...</td><td>Manager</td><td>7 years</td><td>RENT</td><td>54996.0</td><td>CA</td><td>930xx</td><td>USA</td><td>A</td><td>A1</td><td>Not Verified</td><td>112128.0</td><td>Individual</td><td>null</td><td>null</td><td>2025-03-30 05:49:...</td></tr>\n",
       "<tr><td>85fa6e79995011138...</td><td>Client Service Su...</td><td>10+ years</td><td>MORTGAGE</td><td>70000.0</td><td>MD</td><td>212xx</td><td>USA</td><td>B</td><td>B3</td><td>Source Verified</td><td>138369.0</td><td>Individual</td><td>null</td><td>null</td><td>2025-03-30 05:49:...</td></tr>\n",
       "<tr><td>88b861d732c0ff44c...</td><td>Registered nurse</td><td>10+ years</td><td>MORTGAGE</td><td>48000.0</td><td>MO</td><td>630xx</td><td>USA</td><td>A</td><td>A2</td><td>Not Verified</td><td>83081.0</td><td>Individual</td><td>null</td><td>null</td><td>2025-03-30 05:49:...</td></tr>\n",
       "<tr><td>d5fc9b5749f3f3d70...</td><td>Service manager</td><td>1 year</td><td>MORTGAGE</td><td>175000.0</td><td>CA</td><td>951xx</td><td>USA</td><td>B</td><td>B4</td><td>Source Verified</td><td>504763.0</td><td>Individual</td><td>null</td><td>null</td><td>2025-03-30 05:49:...</td></tr>\n",
       "<tr><td>aa1d1f2725f797408...</td><td>Owner</td><td>4 years</td><td>OWN</td><td>120000.0</td><td>CA</td><td>927xx</td><td>USA</td><td>C</td><td>C2</td><td>Source Verified</td><td>61842.0</td><td>Individual</td><td>null</td><td>null</td><td>2025-03-30 05:49:...</td></tr>\n",
       "<tr><td>4e9ac01ebbbb071a4...</td><td>Manager, Fundrais...</td><td>10+ years</td><td>MORTGAGE</td><td>110000.0</td><td>TX</td><td>787xx</td><td>USA</td><td>B</td><td>B3</td><td>Source Verified</td><td>359400.0</td><td>Individual</td><td>null</td><td>null</td><td>2025-03-30 05:49:...</td></tr>\n",
       "<tr><td>7850bf175c6cd9696...</td><td>Bartender</td><td>6 years</td><td>RENT</td><td>65000.0</td><td>AZ</td><td>864xx</td><td>USA</td><td>B</td><td>B1</td><td>Not Verified</td><td>51736.0</td><td>Individual</td><td>null</td><td>null</td><td>2025-03-30 05:49:...</td></tr>\n",
       "<tr><td>d24588150257c6ff0...</td><td>bar/sales</td><td>4 years</td><td>RENT</td><td>55000.0</td><td>OH</td><td>432xx</td><td>USA</td><td>B</td><td>B4</td><td>Not Verified</td><td>95632.0</td><td>Individual</td><td>null</td><td>null</td><td>2025-03-30 05:49:...</td></tr>\n",
       "</table>\n",
       "only showing top 20 rows\n"
      ],
      "text/plain": [
       "+--------------------+--------------------+----------+--------------+-------------+-------------+---------------+---------------+-----+---------+-------------------+-----------------------+----------------+------------------+-------------------------+--------------------+\n",
       "|           member_id|           emp_title|emp_length|home_ownership|Annual_income|address_state|address_zipcode|address_country|grade|sub_grade|verification_status|total_high_credit_limit|application_type|join_annual_income|verification_status_joint|         ingest_date|\n",
       "+--------------------+--------------------+----------+--------------+-------------+-------------+---------------+---------------+-----+---------+-------------------+-----------------------+----------------+------------------+-------------------------+--------------------+\n",
       "|4b8c23e9915f8ef1a...|    Registered Nurse|   3 years|      MORTGAGE|      52000.0|           OH|          440xx|            USA|    C|       C1|       Not Verified|               237095.0|       Joint App|          100000.0|             Not Verified|2025-03-30 05:49:...|\n",
       "|8a6b7218b5f039275...|Police Administrator| 10+ years|           OWN|      67000.0|           TX|          785xx|            USA|    B|       B3|       Not Verified|                50238.0|      Individual|              null|                     null|2025-03-30 05:49:...|\n",
       "|0106e0399abb768f8...|                Chef|   3 years|      MORTGAGE|      42000.0|           SC|          296xx|            USA|    D|       D3|           Verified|               222239.0|      Individual|              null|                     null|2025-03-30 05:49:...|\n",
       "|a3db4e65967b588f9...|Warehouse dispatcher| 10+ years|           OWN|      48000.0|           CA|          923xx|            USA|    D|       D5|    Source Verified|               274126.0|      Individual|              null|                     null|2025-03-30 05:49:...|\n",
       "|4a8c9ea1b41d8bd51...|        Acct manager| 10+ years|      MORTGAGE|      82000.0|           FL|          341xx|            USA|    A|       A4|       Not Verified|               170803.0|      Individual|              null|                     null|2025-03-30 05:49:...|\n",
       "|5c0cd2ad6ab287c4d...|           Custodian| 10+ years|      MORTGAGE|      60000.0|           PA|          152xx|            USA|    D|       D5|    Source Verified|               152082.0|       Joint App|           95000.0|          Source Verified|2025-03-30 05:49:...|\n",
       "|8a579deca5724b4ba...|       Pharmacy tech| 10+ years|          RENT|      52000.0|           NJ|          087xx|            USA|    A|       A1|    Source Verified|               342278.0|      Individual|              null|                     null|2025-03-30 05:49:...|\n",
       "|71737ca4e6a99e977...|           Secretary|   5 years|      MORTGAGE|      26000.0|           MI|          492xx|            USA|    A|       A4|       Not Verified|               249428.0|       Joint App|          110000.0|             Not Verified|2025-03-30 05:49:...|\n",
       "|b98af4e7129e8899a...|    Hatchery Manager| 10+ years|          RENT|      95000.0|           WA|          986xx|            USA|    B|       B5|       Not Verified|                30138.0|       Joint App|          147000.0|             Not Verified|2025-03-30 05:49:...|\n",
       "|405da16939c05bed9...|Physical Therapy Aid|    1 year|          RENT|      24000.0|           CT|          066xx|            USA|    C|       C3|       Not Verified|                 7300.0|      Individual|              null|                     null|2025-03-30 05:49:...|\n",
       "|864eeab18060acdaa...|    Manager Projects|   4 years|          RENT|     108500.0|           CA|          930xx|            USA|    A|       A4|       Not Verified|                99239.0|      Individual|              null|                     null|2025-03-30 05:49:...|\n",
       "|ccd9b5b4fb5f305f3...|          Consultant|  < 1 year|          RENT|     100000.0|           MD|          217xx|            USA|    B|       B2|       Not Verified|               123272.0|      Individual|              null|                     null|2025-03-30 05:49:...|\n",
       "|d1e457c264b28d766...|lead material han...|   5 years|          RENT|      50000.0|           WI|          531xx|            USA|    C|       C1|           Verified|                57031.0|      Individual|              null|                     null|2025-03-30 05:49:...|\n",
       "|77fbf56203119e4d8...|     Insurance Agent| 10+ years|      MORTGAGE|      65000.0|           NJ|          087xx|            USA|    C|       C4|       Not Verified|                20600.0|      Individual|              null|                     null|2025-03-30 05:49:...|\n",
       "|c902fff59ea4ee8ff...|  Sr Systems Analyst|   3 years|      MORTGAGE|     103000.0|           DE|          199xx|            USA|    D|       D3|           Verified|               311747.0|      Individual|              null|                     null|2025-03-30 05:49:...|\n",
       "|ecf92a8fb7ff7287a...|                 CNA|   2 years|          RENT|      80000.0|           CA|          916xx|            USA|    D|       D2|           Verified|                44845.0|      Individual|              null|                     null|2025-03-30 05:49:...|\n",
       "|c7cce4a1427b43ffb...|            mail man| 10+ years|      MORTGAGE|      60000.0|           PA|          191xx|            USA|    A|       A5|           Verified|               296462.0|      Individual|              null|                     null|2025-03-30 05:49:...|\n",
       "|b8b463c796821fbd8...|     General Manager|    1 year|      MORTGAGE|      49000.0|           MO|          656xx|            USA|    B|       B1|    Source Verified|               131765.0|      Individual|              null|                     null|2025-03-30 05:49:...|\n",
       "|94a6ff86d78b2c877...|             Teacher| 10+ years|      MORTGAGE|      56000.0|           CO|          816xx|            USA|    B|       B1|           Verified|               515864.0|       Joint App|          166000.0|                 Verified|2025-03-30 05:49:...|\n",
       "|3847a19f4fd8eb893...|                null|      null|      MORTGAGE|      50000.0|           MD|          219xx|            USA|    A|       A5|       Not Verified|               223225.0|      Individual|              null|                     null|2025-03-30 05:49:...|\n",
       "+--------------------+--------------------+----------+--------------+-------------+-------------+---------------+---------------+-----+---------+-------------------+-----------------------+----------------+------------------+-------------------------+--------------------+\n",
       "only showing top 20 rows"
      ]
     },
     "execution_count": 36,
     "metadata": {},
     "output_type": "execute_result"
    }
   ],
   "source": [
    "spark.sql(\"select * from customers\")"
   ]
  },
  {
   "cell_type": "code",
   "execution_count": 37,
   "id": "033cc712",
   "metadata": {},
   "outputs": [
    {
     "data": {
      "text/html": [
       "<table border='1'>\n",
       "<tr><th>emp_length</th></tr>\n",
       "<tr><td>5 years</td></tr>\n",
       "<tr><td>9 years</td></tr>\n",
       "<tr><td>null</td></tr>\n",
       "<tr><td>1 year</td></tr>\n",
       "<tr><td>2 years</td></tr>\n",
       "<tr><td>7 years</td></tr>\n",
       "<tr><td>8 years</td></tr>\n",
       "<tr><td>4 years</td></tr>\n",
       "<tr><td>6 years</td></tr>\n",
       "<tr><td>3 years</td></tr>\n",
       "<tr><td>10+ years</td></tr>\n",
       "<tr><td>&lt; 1 year</td></tr>\n",
       "</table>\n"
      ],
      "text/plain": [
       "+----------+\n",
       "|emp_length|\n",
       "+----------+\n",
       "|   9 years|\n",
       "|   5 years|\n",
       "|      null|\n",
       "|    1 year|\n",
       "|   2 years|\n",
       "|   7 years|\n",
       "|   8 years|\n",
       "|   4 years|\n",
       "|   6 years|\n",
       "|   3 years|\n",
       "| 10+ years|\n",
       "|  < 1 year|\n",
       "+----------+"
      ]
     },
     "execution_count": 37,
     "metadata": {},
     "output_type": "execute_result"
    }
   ],
   "source": [
    "spark.sql(\"select distinct(emp_length) from customers\")"
   ]
  },
  {
   "cell_type": "code",
   "execution_count": 41,
   "id": "a9aa9409",
   "metadata": {},
   "outputs": [],
   "source": [
    "customer_emplength_length = customer_disctinct.withColumn(\"emp_length\",regexp_replace(col(\"emp_length\"),\"(\\D)\",\"\"))"
   ]
  },
  {
   "cell_type": "code",
   "execution_count": 42,
   "id": "86231381",
   "metadata": {},
   "outputs": [
    {
     "name": "stdout",
     "output_type": "stream",
     "text": [
      "root\n",
      " |-- member_id: string (nullable = true)\n",
      " |-- emp_title: string (nullable = true)\n",
      " |-- emp_length: string (nullable = true)\n",
      " |-- home_ownership: string (nullable = true)\n",
      " |-- Annual_income: float (nullable = true)\n",
      " |-- address_state: string (nullable = true)\n",
      " |-- address_zipcode: string (nullable = true)\n",
      " |-- address_country: string (nullable = true)\n",
      " |-- grade: string (nullable = true)\n",
      " |-- sub_grade: string (nullable = true)\n",
      " |-- verification_status: string (nullable = true)\n",
      " |-- total_high_credit_limit: float (nullable = true)\n",
      " |-- application_type: string (nullable = true)\n",
      " |-- join_annual_income: float (nullable = true)\n",
      " |-- verification_status_joint: string (nullable = true)\n",
      " |-- ingest_date: timestamp (nullable = false)\n",
      "\n"
     ]
    }
   ],
   "source": [
    "customer_emplength_length.printSchema()\n"
   ]
  },
  {
   "cell_type": "code",
   "execution_count": 43,
   "id": "c295942e",
   "metadata": {},
   "outputs": [
    {
     "data": {
      "text/html": [
       "<table border='1'>\n",
       "<tr><th>member_id</th><th>emp_title</th><th>emp_length</th><th>home_ownership</th><th>Annual_income</th><th>address_state</th><th>address_zipcode</th><th>address_country</th><th>grade</th><th>sub_grade</th><th>verification_status</th><th>total_high_credit_limit</th><th>application_type</th><th>join_annual_income</th><th>verification_status_joint</th><th>ingest_date</th></tr>\n",
       "<tr><td>e624456cd66acaa74...</td><td>Senior Engineerin...</td><td>10</td><td>MORTGAGE</td><td>83500.0</td><td>MI</td><td>480xx</td><td>USA</td><td>C</td><td>C5</td><td>Source Verified</td><td>375333.0</td><td>Individual</td><td>null</td><td>null</td><td>2025-03-30 05:53:...</td></tr>\n",
       "<tr><td>3e6c80cab4ce4c9b0...</td><td>Applications Cons...</td><td>1</td><td>MORTGAGE</td><td>105000.0</td><td>KY</td><td>402xx</td><td>USA</td><td>C</td><td>C5</td><td>Source Verified</td><td>149094.0</td><td>Individual</td><td>null</td><td>null</td><td>2025-03-30 05:53:...</td></tr>\n",
       "<tr><td>ef28e06a456f0743f...</td><td>Sales</td><td>9</td><td>RENT</td><td>194000.0</td><td>SC</td><td>296xx</td><td>USA</td><td>B</td><td>B2</td><td>Not Verified</td><td>222847.0</td><td>Individual</td><td>null</td><td>null</td><td>2025-03-30 05:53:...</td></tr>\n",
       "<tr><td>38804b3293c8738fd...</td><td>SECRETARY</td><td>1</td><td>RENT</td><td>20000.0</td><td>NY</td><td>113xx</td><td>USA</td><td>C</td><td>C4</td><td>Verified</td><td>32200.0</td><td>Individual</td><td>null</td><td>null</td><td>2025-03-30 05:53:...</td></tr>\n",
       "<tr><td>eac38e2d6be5cb037...</td><td>Manager</td><td>4</td><td>MORTGAGE</td><td>66000.0</td><td>TX</td><td>780xx</td><td>USA</td><td>E</td><td>E2</td><td>Verified</td><td>183128.0</td><td>Individual</td><td>null</td><td>null</td><td>2025-03-30 05:53:...</td></tr>\n",
       "<tr><td>b4f58989a784359da...</td><td>owner</td><td>10</td><td>MORTGAGE</td><td>100000.0</td><td>MA</td><td>025xx</td><td>USA</td><td>C</td><td>C5</td><td>Source Verified</td><td>144064.0</td><td>Individual</td><td>null</td><td>null</td><td>2025-03-30 05:53:...</td></tr>\n",
       "<tr><td>5a6d2472853f60991...</td><td>Server</td><td>2</td><td>RENT</td><td>40000.0</td><td>MN</td><td>551xx</td><td>USA</td><td>C</td><td>C2</td><td>Verified</td><td>66675.0</td><td>Individual</td><td>null</td><td>null</td><td>2025-03-30 05:53:...</td></tr>\n",
       "<tr><td>b30d0c9dab5c0888a...</td><td>SR Clerk</td><td>3</td><td>MORTGAGE</td><td>70000.0</td><td>IL</td><td>629xx</td><td>USA</td><td>B</td><td>B1</td><td>Not Verified</td><td>36923.0</td><td>Individual</td><td>null</td><td>null</td><td>2025-03-30 05:53:...</td></tr>\n",
       "<tr><td>991d10ffa2d232fa4...</td><td>Architect</td><td>1</td><td>MORTGAGE</td><td>91000.0</td><td>MD</td><td>212xx</td><td>USA</td><td>B</td><td>B2</td><td>Source Verified</td><td>304592.0</td><td>Individual</td><td>null</td><td>null</td><td>2025-03-30 05:53:...</td></tr>\n",
       "<tr><td>6a1ba52bd4a106abf...</td><td>Personal Banker</td><td>3</td><td>RENT</td><td>34000.0</td><td>ID</td><td>837xx</td><td>USA</td><td>C</td><td>C2</td><td>Verified</td><td>94307.0</td><td>Individual</td><td>null</td><td>null</td><td>2025-03-30 05:53:...</td></tr>\n",
       "<tr><td>860e9e5dc3b720108...</td><td>Field Reimburseme...</td><td>1</td><td>OWN</td><td>126000.0</td><td>OH</td><td>430xx</td><td>USA</td><td>B</td><td>B4</td><td>Source Verified</td><td>45500.0</td><td>Individual</td><td>null</td><td>null</td><td>2025-03-30 05:53:...</td></tr>\n",
       "<tr><td>8f0059f8a9c8b3e0a...</td><td>Contract Administ...</td><td>9</td><td>RENT</td><td>45000.0</td><td>FL</td><td>321xx</td><td>USA</td><td>A</td><td>A4</td><td>Source Verified</td><td>47105.0</td><td>Individual</td><td>null</td><td>null</td><td>2025-03-30 05:53:...</td></tr>\n",
       "<tr><td>52c893ed96e3cbba3...</td><td>Associate Front E...</td><td>2</td><td>OWN</td><td>40494.48</td><td>TX</td><td>762xx</td><td>USA</td><td>B</td><td>B5</td><td>Verified</td><td>40709.0</td><td>Individual</td><td>null</td><td>null</td><td>2025-03-30 05:53:...</td></tr>\n",
       "<tr><td>6aef399f49677dd2d...</td><td>Substitute teacher</td><td>1</td><td>RENT</td><td>25000.0</td><td>TX</td><td>774xx</td><td>USA</td><td>D</td><td>D1</td><td>Not Verified</td><td>6000.0</td><td>Individual</td><td>null</td><td>null</td><td>2025-03-30 05:53:...</td></tr>\n",
       "<tr><td>4238768e39d3928ae...</td><td>Mortgage Loan Ser...</td><td>1</td><td>MORTGAGE</td><td>52000.0</td><td>AZ</td><td>852xx</td><td>USA</td><td>C</td><td>C1</td><td>Source Verified</td><td>14800.0</td><td>Individual</td><td>null</td><td>null</td><td>2025-03-30 05:53:...</td></tr>\n",
       "<tr><td>51ea2a35f9358664b...</td><td>Manager</td><td>10</td><td>OWN</td><td>72000.0</td><td>OH</td><td>435xx</td><td>USA</td><td>A</td><td>A1</td><td>Source Verified</td><td>271617.0</td><td>Individual</td><td>null</td><td>null</td><td>2025-03-30 05:53:...</td></tr>\n",
       "<tr><td>3e7ce5ff14109475e...</td><td>Claims Supervisor</td><td>8</td><td>RENT</td><td>82500.0</td><td>CA</td><td>916xx</td><td>USA</td><td>F</td><td>F1</td><td>Verified</td><td>126326.0</td><td>Individual</td><td>null</td><td>null</td><td>2025-03-30 05:53:...</td></tr>\n",
       "<tr><td>31ef224d77564bb1e...</td><td>Rn</td><td>1</td><td>RENT</td><td>106000.0</td><td>NJ</td><td>070xx</td><td>USA</td><td>D</td><td>D5</td><td>Verified</td><td>136643.0</td><td>Individual</td><td>null</td><td>null</td><td>2025-03-30 05:53:...</td></tr>\n",
       "<tr><td>b2bd06b405c2a05bd...</td><td>RN</td><td>1</td><td>RENT</td><td>90000.0</td><td>CA</td><td>940xx</td><td>USA</td><td>D</td><td>D4</td><td>Verified</td><td>65450.0</td><td>Individual</td><td>null</td><td>null</td><td>2025-03-30 05:53:...</td></tr>\n",
       "<tr><td>f7a81433903bb9dab...</td><td>Administration</td><td>2</td><td>RENT</td><td>40000.0</td><td>OH</td><td>440xx</td><td>USA</td><td>A</td><td>A5</td><td>Verified</td><td>65086.0</td><td>Individual</td><td>null</td><td>null</td><td>2025-03-30 05:53:...</td></tr>\n",
       "</table>\n",
       "only showing top 20 rows\n"
      ],
      "text/plain": [
       "+--------------------+--------------------+----------+--------------+-------------+-------------+---------------+---------------+-----+---------+-------------------+-----------------------+----------------+------------------+-------------------------+--------------------+\n",
       "|           member_id|           emp_title|emp_length|home_ownership|Annual_income|address_state|address_zipcode|address_country|grade|sub_grade|verification_status|total_high_credit_limit|application_type|join_annual_income|verification_status_joint|         ingest_date|\n",
       "+--------------------+--------------------+----------+--------------+-------------+-------------+---------------+---------------+-----+---------+-------------------+-----------------------+----------------+------------------+-------------------------+--------------------+\n",
       "|d6c933c6871e30e98...|          DC manager|        10|      MORTGAGE|     133000.0|           MA|          025xx|            USA|    D|       D1|    Source Verified|               417043.0|      Individual|              null|                     null|2025-03-30 05:53:...|\n",
       "|ac66876d7687d53f5...|            Attorney|         4|           OWN|      80000.0|           OH|          440xx|            USA|    C|       C5|           Verified|               417377.0|      Individual|              null|                     null|2025-03-30 05:53:...|\n",
       "|dd9d14038ebf43913...|                null|      null|           OWN|      47000.0|           TX|          770xx|            USA|    A|       A3|       Not Verified|                97087.0|      Individual|              null|                     null|2025-03-30 05:53:...|\n",
       "|17bfaa7a90d929e45...|Director Online L...|         6|          RENT|      82000.0|           OH|          452xx|            USA|    A|       A1|           Verified|                89357.0|      Individual|              null|                     null|2025-03-30 05:53:...|\n",
       "|f6c14fcc36c7f1eae...|Sr Financial Analyst|         1|      MORTGAGE|      76700.0|           WA|          980xx|            USA|    B|       B1|       Not Verified|               488348.0|      Individual|              null|                     null|2025-03-30 05:53:...|\n",
       "|225f69d273a8867d6...|               Owner|        10|          RENT|      35000.0|           GA|          315xx|            USA|    D|       D2|       Not Verified|                56342.0|      Individual|              null|                     null|2025-03-30 05:53:...|\n",
       "|e2f194e64f32177d3...|    Property Manager|         7|           OWN|      85000.0|           MD|          206xx|            USA|    A|       A5|       Not Verified|                63573.0|      Individual|              null|                     null|2025-03-30 05:53:...|\n",
       "|21c661fb43b4445c2...|                  RN|        10|      MORTGAGE|      98000.0|           DE|          199xx|            USA|    C|       C4|       Not Verified|               530449.0|      Individual|              null|                     null|2025-03-30 05:53:...|\n",
       "|07bf16f39c199018d...|              Server|         1|          RENT|      32000.0|           CO|          803xx|            USA|    A|       A1|       Not Verified|                32900.0|      Individual|              null|                     null|2025-03-30 05:53:...|\n",
       "|44884065f2f98df3d...|Office Administrator|         5|          RENT|      50000.0|           FL|          328xx|            USA|    B|       B5|       Not Verified|                44659.0|      Individual|              null|                     null|2025-03-30 05:53:...|\n",
       "|1d376e17ddb00dc4a...|           Caregiver|         5|          RENT|      50000.0|           MA|          021xx|            USA|    B|       B3|       Not Verified|                40214.0|      Individual|              null|                     null|2025-03-30 05:53:...|\n",
       "|1b429861bab9e5ebb...|  Montessori Teacher|        10|           OWN|      86815.0|           MN|          551xx|            USA|    C|       C4|           Verified|                42200.0|      Individual|              null|                     null|2025-03-30 05:53:...|\n",
       "|ef848ac2c422bbcb5...|assistant directo...|         1|      MORTGAGE|      65000.0|           OH|          448xx|            USA|    F|       F1|           Verified|                40800.0|      Individual|              null|                     null|2025-03-30 05:53:...|\n",
       "|6614399b334f2a4eb...|     Attorney at Law|        10|           OWN|     175000.0|           TN|          372xx|            USA|    C|       C1|    Source Verified|               259800.0|      Individual|              null|                     null|2025-03-30 05:53:...|\n",
       "|b1ec58f4fac4a7969...|Inventory Specialist|        10|      MORTGAGE|      62000.0|           MN|          551xx|            USA|    D|       D5|       Not Verified|               422736.0|      Individual|              null|                     null|2025-03-30 05:53:...|\n",
       "|c8a5516ea0e5bc7bc...|Respitory Technician|        10|          RENT|      52000.0|           MO|          640xx|            USA|    A|       A3|           Verified|                26800.0|      Individual|              null|                     null|2025-03-30 05:53:...|\n",
       "|a4d7fca149f32bed7...|                null|      null|      MORTGAGE|      52024.8|           VA|          232xx|            USA|    C|       C2|           Verified|                54713.0|      Individual|              null|                     null|2025-03-30 05:53:...|\n",
       "|fe2d97f29f0c84422...|Assistant Receivi...|         6|          RENT|      48000.0|           NJ|          070xx|            USA|    C|       C2|    Source Verified|                56360.0|      Individual|              null|                     null|2025-03-30 05:53:...|\n",
       "|bb9bd407f77c9cdc4...|    School Secretary|        10|          RENT|      44000.0|           CA|          953xx|            USA|    B|       B4|           Verified|                67175.0|      Individual|              null|                     null|2025-03-30 05:53:...|\n",
       "|3adbfba85deb2e648...|        Receptionist|         5|          RENT|      24000.0|           MI|          480xx|            USA|    B|       B5|           Verified|                73614.0|      Individual|              null|                     null|2025-03-30 05:53:...|\n",
       "+--------------------+--------------------+----------+--------------+-------------+-------------+---------------+---------------+-----+---------+-------------------+-----------------------+----------------+------------------+-------------------------+--------------------+\n",
       "only showing top 20 rows"
      ]
     },
     "execution_count": 43,
     "metadata": {},
     "output_type": "execute_result"
    }
   ],
   "source": [
    "customer_emplength_length\n"
   ]
  },
  {
   "cell_type": "code",
   "execution_count": 45,
   "id": "5dbc2312",
   "metadata": {},
   "outputs": [],
   "source": [
    "customer_cast = customer_emplength_length.withColumn(\"emp_length\",customer_emplength_length.emp_length.cast('int'))"
   ]
  },
  {
   "cell_type": "code",
   "execution_count": 47,
   "id": "cdfc2390",
   "metadata": {},
   "outputs": [
    {
     "name": "stdout",
     "output_type": "stream",
     "text": [
      "root\n",
      " |-- member_id: string (nullable = true)\n",
      " |-- emp_title: string (nullable = true)\n",
      " |-- emp_length: integer (nullable = true)\n",
      " |-- home_ownership: string (nullable = true)\n",
      " |-- Annual_income: float (nullable = true)\n",
      " |-- address_state: string (nullable = true)\n",
      " |-- address_zipcode: string (nullable = true)\n",
      " |-- address_country: string (nullable = true)\n",
      " |-- grade: string (nullable = true)\n",
      " |-- sub_grade: string (nullable = true)\n",
      " |-- verification_status: string (nullable = true)\n",
      " |-- total_high_credit_limit: float (nullable = true)\n",
      " |-- application_type: string (nullable = true)\n",
      " |-- join_annual_income: float (nullable = true)\n",
      " |-- verification_status_joint: string (nullable = true)\n",
      " |-- ingest_date: timestamp (nullable = false)\n",
      "\n"
     ]
    }
   ],
   "source": [
    "customer_cast.printSchema()"
   ]
  },
  {
   "cell_type": "code",
   "execution_count": 48,
   "id": "79e3aa6b",
   "metadata": {},
   "outputs": [
    {
     "data": {
      "text/plain": [
       "146905"
      ]
     },
     "execution_count": 48,
     "metadata": {},
     "output_type": "execute_result"
    }
   ],
   "source": [
    "customer_cast.filter(\"emp_length is null\").count()"
   ]
  },
  {
   "cell_type": "code",
   "execution_count": 50,
   "id": "f659faa1",
   "metadata": {},
   "outputs": [],
   "source": [
    "customer_cast.createOrReplaceTempView(\"customers\")"
   ]
  },
  {
   "cell_type": "code",
   "execution_count": 52,
   "id": "4fa7bd61",
   "metadata": {},
   "outputs": [],
   "source": [
    "avg_empg_length=spark.sql(\"select floor(avg(emp_length)) as avg_emp_length from customers\").collect()"
   ]
  },
  {
   "cell_type": "code",
   "execution_count": 53,
   "id": "ea7a454a",
   "metadata": {},
   "outputs": [
    {
     "data": {
      "text/plain": [
       "[Row(avg_emp_length=6)]"
      ]
     },
     "execution_count": 53,
     "metadata": {},
     "output_type": "execute_result"
    }
   ],
   "source": [
    "avg_empg_length"
   ]
  },
  {
   "cell_type": "code",
   "execution_count": 54,
   "id": "f6548db4",
   "metadata": {},
   "outputs": [],
   "source": [
    "avg_emp_duration = avg_empg_length[0][0]"
   ]
  },
  {
   "cell_type": "code",
   "execution_count": 55,
   "id": "50b89976",
   "metadata": {},
   "outputs": [
    {
     "data": {
      "text/plain": [
       "6"
      ]
     },
     "execution_count": 55,
     "metadata": {},
     "output_type": "execute_result"
    }
   ],
   "source": [
    "avg_emp_duration"
   ]
  },
  {
   "cell_type": "code",
   "execution_count": 56,
   "id": "6f170bdf",
   "metadata": {},
   "outputs": [],
   "source": [
    "customers_emplength_replaced = customer_cast.na.fill(avg_emp_duration,subset = [\"emp_length\"])"
   ]
  },
  {
   "cell_type": "code",
   "execution_count": 57,
   "id": "a6804967",
   "metadata": {},
   "outputs": [
    {
     "data": {
      "text/plain": [
       "0"
      ]
     },
     "execution_count": 57,
     "metadata": {},
     "output_type": "execute_result"
    }
   ],
   "source": [
    "customers_emplength_replaced.filter(\"emp_length is null\").count()"
   ]
  },
  {
   "cell_type": "code",
   "execution_count": 58,
   "id": "8fd8c72e",
   "metadata": {},
   "outputs": [],
   "source": [
    "customers_emplength_replaced.createOrReplaceTempView(\"customers\")"
   ]
  },
  {
   "cell_type": "code",
   "execution_count": 59,
   "id": "74254332",
   "metadata": {},
   "outputs": [
    {
     "data": {
      "text/html": [
       "<table border='1'>\n",
       "<tr><th>address_state</th></tr>\n",
       "<tr><td>Helping Kenya&#x27;s D...</td></tr>\n",
       "<tr><td>175 (total projec...</td></tr>\n",
       "<tr><td>223xx</td></tr>\n",
       "<tr><td>AZ</td></tr>\n",
       "<tr><td>SC</td></tr>\n",
       "<tr><td>I am 56 yrs. old ...</td></tr>\n",
       "<tr><td>so Plan &quot;&quot;C&quot;&quot; is ...</td></tr>\n",
       "<tr><td>financially I mad...</td></tr>\n",
       "<tr><td>but no one will l...</td></tr>\n",
       "<tr><td>LA</td></tr>\n",
       "<tr><td>etc.  First</td></tr>\n",
       "<tr><td>MN</td></tr>\n",
       "<tr><td>yet Capital One n...</td></tr>\n",
       "<tr><td>499xx</td></tr>\n",
       "<tr><td>850xx</td></tr>\n",
       "<tr><td>Advocate business...</td></tr>\n",
       "<tr><td>Eliminating Credi...</td></tr>\n",
       "<tr><td>and MBA&#x27;s are ove...</td></tr>\n",
       "<tr><td>662xx</td></tr>\n",
       "<tr><td>951xx</td></tr>\n",
       "</table>\n",
       "only showing top 20 rows\n"
      ],
      "text/plain": [
       "+--------------------+\n",
       "|       address_state|\n",
       "+--------------------+\n",
       "|Helping Kenya's D...|\n",
       "|               223xx|\n",
       "|175 (total projec...|\n",
       "|                  SC|\n",
       "|                  AZ|\n",
       "|so Plan \"\"C\"\" is ...|\n",
       "|I am 56 yrs. old ...|\n",
       "|financially I mad...|\n",
       "|but no one will l...|\n",
       "|                  LA|\n",
       "|         etc.  First|\n",
       "|                  MN|\n",
       "|yet Capital One n...|\n",
       "|               850xx|\n",
       "|               499xx|\n",
       "|Advocate business...|\n",
       "|Eliminating Credi...|\n",
       "|and MBA's are ove...|\n",
       "|               662xx|\n",
       "|I the credit card...|\n",
       "+--------------------+\n",
       "only showing top 20 rows"
      ]
     },
     "execution_count": 59,
     "metadata": {},
     "output_type": "execute_result"
    }
   ],
   "source": [
    "spark.sql(\"select distinct(address_state) from customers\")"
   ]
  },
  {
   "cell_type": "code",
   "execution_count": 60,
   "id": "fb152c67",
   "metadata": {},
   "outputs": [
    {
     "data": {
      "text/html": [
       "<table border='1'>\n",
       "<tr><th>count(address_state)</th></tr>\n",
       "<tr><td>255</td></tr>\n",
       "</table>\n"
      ],
      "text/plain": [
       "+--------------------+\n",
       "|count(address_state)|\n",
       "+--------------------+\n",
       "|                 255|\n",
       "+--------------------+"
      ]
     },
     "execution_count": 60,
     "metadata": {},
     "output_type": "execute_result"
    }
   ],
   "source": [
    "spark.sql(\"select count(address_state) from customers where length(address_state) > 2\")"
   ]
  },
  {
   "cell_type": "code",
   "execution_count": 61,
   "id": "1a08476d",
   "metadata": {},
   "outputs": [],
   "source": [
    "from pyspark.sql.functions import when, length, col\n",
    "\n",
    "customers_state_cleaned_df = customers_emplength_replaced.withColumn(\"address_state\",\n",
    "when (length(col(\"address_state\"))>2,\"NA\").otherwise(col(\"address_state\")))"
   ]
  },
  {
   "cell_type": "code",
   "execution_count": 62,
   "id": "b0e18b98",
   "metadata": {},
   "outputs": [
    {
     "data": {
      "text/html": [
       "<table border='1'>\n",
       "<tr><th>member_id</th><th>emp_title</th><th>emp_length</th><th>home_ownership</th><th>Annual_income</th><th>address_state</th><th>address_zipcode</th><th>address_country</th><th>grade</th><th>sub_grade</th><th>verification_status</th><th>total_high_credit_limit</th><th>application_type</th><th>join_annual_income</th><th>verification_status_joint</th><th>ingest_date</th></tr>\n",
       "<tr><td>08beada3202f9f8ff...</td><td>Carpenter</td><td>1</td><td>RENT</td><td>60000.0</td><td>AZ</td><td>853xx</td><td>USA</td><td>C</td><td>C3</td><td>Not Verified</td><td>34993.0</td><td>Individual</td><td>null</td><td>null</td><td>2025-03-30 06:09:...</td></tr>\n",
       "<tr><td>845077c0d067b22f8...</td><td>Owner/Manager</td><td>2</td><td>RENT</td><td>35935.0</td><td>UT</td><td>843xx</td><td>USA</td><td>D</td><td>D2</td><td>Not Verified</td><td>24632.0</td><td>Joint App</td><td>47661.0</td><td>Not Verified</td><td>2025-03-30 06:09:...</td></tr>\n",
       "<tr><td>10c474f6b01026129...</td><td>Mechanic Assistant</td><td>1</td><td>MORTGAGE</td><td>35000.0</td><td>WI</td><td>539xx</td><td>USA</td><td>C</td><td>C5</td><td>Verified</td><td>93476.0</td><td>Individual</td><td>null</td><td>null</td><td>2025-03-30 06:09:...</td></tr>\n",
       "<tr><td>8b548ec93c15bfb4e...</td><td>Transportation se...</td><td>5</td><td>RENT</td><td>60000.0</td><td>FL</td><td>333xx</td><td>USA</td><td>E</td><td>E5</td><td>Source Verified</td><td>74398.0</td><td>Individual</td><td>null</td><td>null</td><td>2025-03-30 06:09:...</td></tr>\n",
       "<tr><td>a9ed1518687532b62...</td><td>Network Administr...</td><td>2</td><td>MORTGAGE</td><td>65000.0</td><td>MO</td><td>647xx</td><td>USA</td><td>A</td><td>A4</td><td>Source Verified</td><td>175276.0</td><td>Individual</td><td>null</td><td>null</td><td>2025-03-30 06:09:...</td></tr>\n",
       "<tr><td>32f072a9f3d3f1b37...</td><td>null</td><td>6</td><td>MORTGAGE</td><td>32832.0</td><td>OR</td><td>973xx</td><td>USA</td><td>C</td><td>C5</td><td>Not Verified</td><td>167818.0</td><td>Individual</td><td>null</td><td>null</td><td>2025-03-30 06:09:...</td></tr>\n",
       "<tr><td>f7e86d9665a1d642e...</td><td>Machinist</td><td>10</td><td>RENT</td><td>60000.0</td><td>MI</td><td>494xx</td><td>USA</td><td>C</td><td>C3</td><td>Not Verified</td><td>21600.0</td><td>Individual</td><td>null</td><td>null</td><td>2025-03-30 06:09:...</td></tr>\n",
       "<tr><td>9fe7168bb112ef8d4...</td><td>Registered Nurse</td><td>10</td><td>MORTGAGE</td><td>46800.0</td><td>MO</td><td>630xx</td><td>USA</td><td>D</td><td>D5</td><td>Not Verified</td><td>270147.0</td><td>Joint App</td><td>166800.0</td><td>Not Verified</td><td>2025-03-30 06:09:...</td></tr>\n",
       "<tr><td>db1c31fb75c9276ac...</td><td>Clinician</td><td>2</td><td>MORTGAGE</td><td>50100.0</td><td>CA</td><td>958xx</td><td>USA</td><td>A</td><td>A5</td><td>Source Verified</td><td>322634.0</td><td>Individual</td><td>null</td><td>null</td><td>2025-03-30 06:09:...</td></tr>\n",
       "<tr><td>91c18c805d4a0bbed...</td><td>Vice President</td><td>10</td><td>MORTGAGE</td><td>210000.0</td><td>MA</td><td>021xx</td><td>USA</td><td>C</td><td>C4</td><td>Source Verified</td><td>469937.0</td><td>Individual</td><td>null</td><td>null</td><td>2025-03-30 06:09:...</td></tr>\n",
       "<tr><td>7fabfac6896899698...</td><td>General build mec...</td><td>10</td><td>RENT</td><td>62000.0</td><td>CT</td><td>065xx</td><td>USA</td><td>D</td><td>D5</td><td>Verified</td><td>86023.0</td><td>Individual</td><td>null</td><td>null</td><td>2025-03-30 06:09:...</td></tr>\n",
       "<tr><td>f2f3dd99ccd0937a6...</td><td>null</td><td>6</td><td>RENT</td><td>8431.0</td><td>KS</td><td>661xx</td><td>USA</td><td>A</td><td>A5</td><td>Verified</td><td>25300.0</td><td>Joint App</td><td>76542.0</td><td>Verified</td><td>2025-03-30 06:09:...</td></tr>\n",
       "<tr><td>83f84037f09aeb961...</td><td>Food safety analysis</td><td>5</td><td>RENT</td><td>46000.0</td><td>KS</td><td>672xx</td><td>USA</td><td>D</td><td>D3</td><td>Verified</td><td>33363.0</td><td>Individual</td><td>null</td><td>null</td><td>2025-03-30 06:09:...</td></tr>\n",
       "<tr><td>fd31b1f1ff9e8813a...</td><td>Software Developer</td><td>2</td><td>RENT</td><td>60000.0</td><td>CO</td><td>805xx</td><td>USA</td><td>A</td><td>A4</td><td>Not Verified</td><td>74153.0</td><td>Individual</td><td>null</td><td>null</td><td>2025-03-30 06:09:...</td></tr>\n",
       "<tr><td>73f320bbea086d231...</td><td>Server</td><td>8</td><td>RENT</td><td>46000.0</td><td>LA</td><td>700xx</td><td>USA</td><td>C</td><td>C3</td><td>Source Verified</td><td>113885.0</td><td>Individual</td><td>null</td><td>null</td><td>2025-03-30 06:09:...</td></tr>\n",
       "<tr><td>fb54c743cef1911f8...</td><td>Truck Driver</td><td>4</td><td>MORTGAGE</td><td>105000.0</td><td>NY</td><td>136xx</td><td>USA</td><td>D</td><td>D5</td><td>Not Verified</td><td>320717.0</td><td>Individual</td><td>null</td><td>null</td><td>2025-03-30 06:09:...</td></tr>\n",
       "<tr><td>cfaaca3f757d6559a...</td><td>Plant Mgr.</td><td>1</td><td>MORTGAGE</td><td>80000.0</td><td>NE</td><td>687xx</td><td>USA</td><td>C</td><td>C2</td><td>Verified</td><td>239143.0</td><td>Individual</td><td>null</td><td>null</td><td>2025-03-30 06:09:...</td></tr>\n",
       "<tr><td>bef7edc773ce603a7...</td><td>COUNTY COMMISSIONER</td><td>8</td><td>MORTGAGE</td><td>52000.0</td><td>ID</td><td>838xx</td><td>USA</td><td>B</td><td>B1</td><td>Verified</td><td>128522.0</td><td>Individual</td><td>null</td><td>null</td><td>2025-03-30 06:09:...</td></tr>\n",
       "<tr><td>556a65a7949162715...</td><td>Social Worker</td><td>10</td><td>MORTGAGE</td><td>75000.0</td><td>CT</td><td>067xx</td><td>USA</td><td>D</td><td>D4</td><td>Not Verified</td><td>228172.0</td><td>Individual</td><td>null</td><td>null</td><td>2025-03-30 06:09:...</td></tr>\n",
       "<tr><td>cc9da8f7af2698cd8...</td><td>Senior Programmer...</td><td>3</td><td>MORTGAGE</td><td>87500.0</td><td>OH</td><td>457xx</td><td>USA</td><td>D</td><td>D1</td><td>Verified</td><td>138015.0</td><td>Individual</td><td>null</td><td>null</td><td>2025-03-30 06:09:...</td></tr>\n",
       "</table>\n",
       "only showing top 20 rows\n"
      ],
      "text/plain": [
       "+--------------------+--------------------+----------+--------------+-------------+-------------+---------------+---------------+-----+---------+-------------------+-----------------------+----------------+------------------+-------------------------+--------------------+\n",
       "|           member_id|           emp_title|emp_length|home_ownership|Annual_income|address_state|address_zipcode|address_country|grade|sub_grade|verification_status|total_high_credit_limit|application_type|join_annual_income|verification_status_joint|         ingest_date|\n",
       "+--------------------+--------------------+----------+--------------+-------------+-------------+---------------+---------------+-----+---------+-------------------+-----------------------+----------------+------------------+-------------------------+--------------------+\n",
       "|ee25800ab081600f2...|Food service manager|         1|          RENT|      65000.0|           TX|          786xx|            USA|    C|       C3|           Verified|                56966.0|      Individual|              null|                     null|2025-03-30 06:08:...|\n",
       "|569bca2efd70d74f7...|Associate Directo...|        10|          RENT|     165000.0|           FL|          330xx|            USA|    B|       B1|    Source Verified|               104267.0|      Individual|              null|                     null|2025-03-30 06:08:...|\n",
       "|8a2304ce9149ec390...|             Teacher|        10|      MORTGAGE|      79788.0|           CA|          958xx|            USA|    B|       B3|    Source Verified|                79095.0|      Individual|              null|                     null|2025-03-30 06:08:...|\n",
       "|286b70120a3e1f4e2...|             Cashier|         3|          RENT|      16000.0|           CA|          928xx|            USA|    D|       D4|           Verified|                 6700.0|      Individual|              null|                     null|2025-03-30 06:08:...|\n",
       "|828b04e2325bcd6bd...|               Maint|         5|      MORTGAGE|      40000.0|           FL|          331xx|            USA|    E|       E1|    Source Verified|               203318.0|      Individual|              null|                     null|2025-03-30 06:08:...|\n",
       "|660cabd90c1f0e59a...|      Client Manager|         1|      MORTGAGE|     110000.0|           TX|          787xx|            USA|    E|       E4|    Source Verified|               122399.0|      Individual|              null|                     null|2025-03-30 06:08:...|\n",
       "|b1817672a61152fec...|              Active|         5|          RENT|      43000.0|           CA|          935xx|            USA|    C|       C3|    Source Verified|                29927.0|      Individual|              null|                     null|2025-03-30 06:08:...|\n",
       "|df3e66709b3e4648a...|Senior Subcontrac...|         6|      MORTGAGE|      64910.0|           FL|          327xx|            USA|    B|       B4|       Not Verified|               300118.0|      Individual|              null|                     null|2025-03-30 06:08:...|\n",
       "|5b6b6c05e665d75cf...|                null|         6|           OWN|      50000.0|           MD|          211xx|            USA|    D|       D2|    Source Verified|               269008.0|      Individual|              null|                     null|2025-03-30 06:08:...|\n",
       "|e65091ed9dfb3c8a1...|Patient Experienc...|         7|      MORTGAGE|      37420.0|           NC|          287xx|            USA|    E|       E3|    Source Verified|               214816.0|      Individual|              null|                     null|2025-03-30 06:08:...|\n",
       "|9877e0d966ed31f3e...|     billing manager|        10|      MORTGAGE|      40000.0|           TX|          773xx|            USA|    A|       A5|       Not Verified|               157362.0|      Individual|              null|                     null|2025-03-30 06:08:...|\n",
       "|3d01a261801a8282e...|          Pharmacist|         4|          RENT|     110000.0|           FL|          328xx|            USA|    E|       E1|           Verified|                58477.0|      Individual|              null|                     null|2025-03-30 06:08:...|\n",
       "|11b93c0c745b2ab74...|             Manager|         5|      MORTGAGE|      55000.0|           IL|          601xx|            USA|    C|       C4|    Source Verified|               257925.0|      Individual|              null|                     null|2025-03-30 06:08:...|\n",
       "|6cb7dce28293a17af...|          Controller|        10|      MORTGAGE|      44600.0|           IN|          466xx|            USA|    B|       B3|       Not Verified|               114000.0|      Individual|              null|                     null|2025-03-30 06:08:...|\n",
       "|138bbb300921897d6...|Inventory /Custom...|        10|      MORTGAGE|      55000.0|           PA|          195xx|            USA|    C|       C3|    Source Verified|               229980.0|      Individual|              null|                     null|2025-03-30 06:08:...|\n",
       "|b7caa190f799a5610...| Relationship Banker|        10|          RENT|      35000.0|           MI|          488xx|            USA|    B|       B3|       Not Verified|                30473.0|      Individual|              null|                     null|2025-03-30 06:08:...|\n",
       "|b572c25d4b5e05b28...|         Food retail|        10|      MORTGAGE|      32000.0|           NY|          133xx|            USA|    E|       E2|    Source Verified|                43151.0|      Individual|              null|                     null|2025-03-30 06:08:...|\n",
       "|55112ae07de5122d2...|Customer service ...|         7|      MORTGAGE|      78000.0|           OK|          740xx|            USA|    B|       B2|    Source Verified|               188484.0|      Individual|              null|                     null|2025-03-30 06:08:...|\n",
       "|4801c210bcc817d32...|                 LVN|         5|          RENT|      75000.0|           CA|          925xx|            USA|    C|       C4|    Source Verified|                90371.0|      Individual|              null|                     null|2025-03-30 06:08:...|\n",
       "|154b3021320cca038...|Accounts Payable ...|        10|      MORTGAGE|      42000.0|           MN|          551xx|            USA|    B|       B5|           Verified|               196404.0|      Individual|              null|                     null|2025-03-30 06:08:...|\n",
       "+--------------------+--------------------+----------+--------------+-------------+-------------+---------------+---------------+-----+---------+-------------------+-----------------------+----------------+------------------+-------------------------+--------------------+\n",
       "only showing top 20 rows"
      ]
     },
     "execution_count": 62,
     "metadata": {},
     "output_type": "execute_result"
    }
   ],
   "source": [
    "customers_state_cleaned_df"
   ]
  },
  {
   "cell_type": "code",
   "execution_count": 63,
   "id": "b1a8abe4",
   "metadata": {},
   "outputs": [],
   "source": [
    "customers_state_cleaned_df.write \\\n",
    ".format(\"parquet\") \\\n",
    ".mode(\"overwrite\") \\\n",
    ".option(\"path\", \"/user/itv015703/lendingclubproject/cleaned/customers_parquet\") \\\n",
    ".save()"
   ]
  },
  {
   "cell_type": "code",
   "execution_count": 64,
   "id": "5ecbbfcf",
   "metadata": {},
   "outputs": [],
   "source": [
    "customers_state_cleaned_df.write \\\n",
    ".option(\"header\", True) \\\n",
    ".format(\"csv\") \\\n",
    ".mode(\"overwrite\") \\\n",
    ".option(\"path\", \"/user/itv015703/lendingclubproject/cleaned/customers_csv\") \\\n",
    ".save()"
   ]
  },
  {
   "cell_type": "code",
   "execution_count": 65,
   "id": "16633183",
   "metadata": {},
   "outputs": [],
   "source": [
    "spark.stop()"
   ]
  },
  {
   "cell_type": "code",
   "execution_count": null,
   "id": "504a4fec",
   "metadata": {},
   "outputs": [],
   "source": []
  }
 ],
 "metadata": {
  "kernelspec": {
   "display_name": "Pyspark 3",
   "language": "python",
   "name": "pyspark3"
  },
  "language_info": {
   "codemirror_mode": {
    "name": "ipython",
    "version": 3
   },
   "file_extension": ".py",
   "mimetype": "text/x-python",
   "name": "python",
   "nbconvert_exporter": "python",
   "pygments_lexer": "ipython3",
   "version": "3.6.12"
  }
 },
 "nbformat": 4,
 "nbformat_minor": 5
}
