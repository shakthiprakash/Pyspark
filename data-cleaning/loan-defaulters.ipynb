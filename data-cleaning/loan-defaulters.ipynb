{
 "cells": [
  {
   "cell_type": "code",
   "execution_count": 35,
   "id": "f67cbfaa",
   "metadata": {},
   "outputs": [],
   "source": [
    "from pyspark.sql import SparkSession\n",
    "import getpass\n",
    "username = getpass.getuser()\n",
    "\n",
    "spark= SparkSession. \\\n",
    "builder. \\\n",
    "config('spark.ui.port','0'). \\\n",
    "config(\"spark.sql.warehouse.dir\", f\"/user/{username}/warehouse\"). \\\n",
    "enableHiveSupport(). \\\n",
    "master('yarn'). \\\n",
    "getOrCreate()"
   ]
  },
  {
   "cell_type": "code",
   "execution_count": 36,
   "id": "e0f0a39f",
   "metadata": {},
   "outputs": [],
   "source": [
    "loan_defaulters_df = spark.read \\\n",
    ".format(\"csv\") \\\n",
    ".option(\"inferSchema\",True) \\\n",
    ".option(\"header\",True) \\\n",
    ".load(\"/public/trendytech/lendingclubproject/raw/loans_defaulters_csv\")\n"
   ]
  },
  {
   "cell_type": "code",
   "execution_count": 37,
   "id": "601134a3",
   "metadata": {},
   "outputs": [
    {
     "name": "stdout",
     "output_type": "stream",
     "text": [
      "root\n",
      " |-- member_id: string (nullable = true)\n",
      " |-- delinq_2yrs: string (nullable = true)\n",
      " |-- delinq_amnt: double (nullable = true)\n",
      " |-- pub_rec: string (nullable = true)\n",
      " |-- pub_rec_bankruptcies: double (nullable = true)\n",
      " |-- inq_last_6mths: string (nullable = true)\n",
      " |-- total_rec_late_fee: string (nullable = true)\n",
      " |-- mths_since_last_delinq: string (nullable = true)\n",
      " |-- mths_since_last_record: string (nullable = true)\n",
      "\n"
     ]
    }
   ],
   "source": [
    "loan_defaulters_df.printSchema()"
   ]
  },
  {
   "cell_type": "code",
   "execution_count": 38,
   "id": "269922ee",
   "metadata": {},
   "outputs": [],
   "source": [
    "loan_defaulters_df.createOrReplaceTempView(\"loan_defaulter\")"
   ]
  },
  {
   "cell_type": "code",
   "execution_count": 39,
   "id": "5f740d38",
   "metadata": {},
   "outputs": [
    {
     "name": "stdout",
     "output_type": "stream",
     "text": [
      "root\n",
      " |-- member_id: string (nullable = true)\n",
      " |-- delinq_2yrs: string (nullable = true)\n",
      " |-- delinq_amnt: double (nullable = true)\n",
      " |-- pub_rec: string (nullable = true)\n",
      " |-- pub_rec_bankruptcies: double (nullable = true)\n",
      " |-- inq_last_6mths: string (nullable = true)\n",
      " |-- total_rec_late_fee: string (nullable = true)\n",
      " |-- mths_since_last_delinq: string (nullable = true)\n",
      " |-- mths_since_last_record: string (nullable = true)\n",
      "\n"
     ]
    }
   ],
   "source": [
    "loan_defaulters_df.printSchema()"
   ]
  },
  {
   "cell_type": "code",
   "execution_count": 40,
   "id": "fd8f49f3",
   "metadata": {},
   "outputs": [
    {
     "data": {
      "text/html": [
       "<table border='1'>\n",
       "<tr><th>delinq_2yrs</th></tr>\n",
       "<tr><td>1.0</td></tr>\n",
       "<tr><td>I bike to work on...</td></tr>\n",
       "<tr><td>271 monthly payme...</td></tr>\n",
       "<tr><td>183xx</td></tr>\n",
       "<tr><td>VISA and AMEX cre...</td></tr>\n",
       "<tr><td>etc. and I feel t...</td></tr>\n",
       "<tr><td>AZ</td></tr>\n",
       "<tr><td>017xx</td></tr>\n",
       "<tr><td>923xx</td></tr>\n",
       "<tr><td>446xx</td></tr>\n",
       "<tr><td>who is a financia...</td></tr>\n",
       "<tr><td>and all of that c...</td></tr>\n",
       "<tr><td>LA</td></tr>\n",
       "<tr><td>24.66</td></tr>\n",
       "<tr><td>and the removal o...</td></tr>\n",
       "<tr><td>I would like to c...</td></tr>\n",
       "<tr><td>12.24</td></tr>\n",
       "<tr><td>22.0</td></tr>\n",
       "<tr><td>so most of my inc...</td></tr>\n",
       "<tr><td>I would like to p...</td></tr>\n",
       "</table>\n",
       "only showing top 20 rows\n"
      ],
      "text/plain": [
       "+--------------------+\n",
       "|         delinq_2yrs|\n",
       "+--------------------+\n",
       "|                 1.0|\n",
       "|I bike to work on...|\n",
       "|271 monthly payme...|\n",
       "|               183xx|\n",
       "|VISA and AMEX cre...|\n",
       "|etc. and I feel t...|\n",
       "|                  AZ|\n",
       "|               017xx|\n",
       "|               923xx|\n",
       "|               446xx|\n",
       "|who is a financia...|\n",
       "|and all of that c...|\n",
       "|                  LA|\n",
       "|               24.66|\n",
       "|and the removal o...|\n",
       "|I would like to c...|\n",
       "|               12.24|\n",
       "|                22.0|\n",
       "|so most of my inc...|\n",
       "|I would like to p...|\n",
       "+--------------------+\n",
       "only showing top 20 rows"
      ]
     },
     "execution_count": 40,
     "metadata": {},
     "output_type": "execute_result"
    }
   ],
   "source": [
    "spark.sql(\"select distinct(delinq_2yrs) from loan_defaulter\")"
   ]
  },
  {
   "cell_type": "code",
   "execution_count": 41,
   "id": "f6269fd2",
   "metadata": {},
   "outputs": [
    {
     "data": {
      "text/html": [
       "<table border='1'>\n",
       "<tr><th>delinq_2yrs</th><th>total</th></tr>\n",
       "<tr><td>0.0</td><td>1838878</td></tr>\n",
       "<tr><td>1.0</td><td>281335</td></tr>\n",
       "<tr><td>2.0</td><td>81285</td></tr>\n",
       "<tr><td>3.0</td><td>29539</td></tr>\n",
       "<tr><td>4.0</td><td>13179</td></tr>\n",
       "<tr><td>5.0</td><td>6599</td></tr>\n",
       "<tr><td>6.0</td><td>3717</td></tr>\n",
       "<tr><td>7.0</td><td>2062</td></tr>\n",
       "<tr><td>8.0</td><td>1223</td></tr>\n",
       "<tr><td>9.0</td><td>818</td></tr>\n",
       "<tr><td>10.0</td><td>556</td></tr>\n",
       "<tr><td>11.0</td><td>363</td></tr>\n",
       "<tr><td>12.0</td><td>264</td></tr>\n",
       "<tr><td>13.0</td><td>165</td></tr>\n",
       "<tr><td>14.0</td><td>120</td></tr>\n",
       "<tr><td>15.0</td><td>87</td></tr>\n",
       "<tr><td>null</td><td>63</td></tr>\n",
       "<tr><td>16.0</td><td>55</td></tr>\n",
       "<tr><td>17.0</td><td>30</td></tr>\n",
       "<tr><td>18.0</td><td>30</td></tr>\n",
       "</table>\n",
       "only showing top 20 rows\n"
      ],
      "text/plain": [
       "+-----------+-------+\n",
       "|delinq_2yrs|  total|\n",
       "+-----------+-------+\n",
       "|        0.0|1838878|\n",
       "|        1.0| 281335|\n",
       "|        2.0|  81285|\n",
       "|        3.0|  29539|\n",
       "|        4.0|  13179|\n",
       "|        5.0|   6599|\n",
       "|        6.0|   3717|\n",
       "|        7.0|   2062|\n",
       "|        8.0|   1223|\n",
       "|        9.0|    818|\n",
       "|       10.0|    556|\n",
       "|       11.0|    363|\n",
       "|       12.0|    264|\n",
       "|       13.0|    165|\n",
       "|       14.0|    120|\n",
       "|       15.0|     87|\n",
       "|       null|     63|\n",
       "|       16.0|     55|\n",
       "|       17.0|     30|\n",
       "|       18.0|     30|\n",
       "+-----------+-------+\n",
       "only showing top 20 rows"
      ]
     },
     "execution_count": 41,
     "metadata": {},
     "output_type": "execute_result"
    }
   ],
   "source": [
    "spark.sql(\"select delinq_2yrs,count(*) as total from loan_defaulter group by delinq_2yrs order by total desc \")"
   ]
  },
  {
   "cell_type": "code",
   "execution_count": 42,
   "id": "89c15d81",
   "metadata": {},
   "outputs": [],
   "source": [
    "loan_defaulters_schema = \"member_id string, delinq_2yrs float, delinq_amnt float, pub_rec float, pub_rec_bankruptcies float,inq_last_6mths float, total_rec_late_fee float, mths_since_last_delinq float, mths_since_last_record float\""
   ]
  },
  {
   "cell_type": "code",
   "execution_count": 43,
   "id": "a4a0f115",
   "metadata": {},
   "outputs": [],
   "source": [
    "loans_def_raw_df = spark.read \\\n",
    ".format(\"csv\") \\\n",
    ".option(\"header\",True) \\\n",
    ".schema(loan_defaulters_schema) \\\n",
    ".load(\"/public/trendytech/lendingclubproject/raw/loans_defaulters_csv\")"
   ]
  },
  {
   "cell_type": "code",
   "execution_count": 44,
   "id": "a1fbd50f",
   "metadata": {},
   "outputs": [],
   "source": [
    "from pyspark.sql.functions import current_timestamp\n",
    "\n",
    "loans_default_ingested_df = loans_def_raw_df.withColumn(\"ingest_date\", current_timestamp())"
   ]
  },
  {
   "cell_type": "code",
   "execution_count": 45,
   "id": "0a15c28e",
   "metadata": {},
   "outputs": [],
   "source": [
    "loans_default_ingested_df.createOrReplaceTempView(\"loan_defaulter\")"
   ]
  },
  {
   "cell_type": "code",
   "execution_count": 46,
   "id": "9203e43a",
   "metadata": {},
   "outputs": [
    {
     "name": "stdout",
     "output_type": "stream",
     "text": [
      "+-----------+-------+\n",
      "|delinq_2yrs|  total|\n",
      "+-----------+-------+\n",
      "|        0.0|1838878|\n",
      "|        1.0| 281335|\n",
      "|        2.0|  81285|\n",
      "|        3.0|  29539|\n",
      "|        4.0|  13179|\n",
      "|        5.0|   6599|\n",
      "|        6.0|   3717|\n",
      "|        7.0|   2062|\n",
      "|        8.0|   1223|\n",
      "|        9.0|    818|\n",
      "|       10.0|    556|\n",
      "|       11.0|    363|\n",
      "|       12.0|    264|\n",
      "|       null|    261|\n",
      "|       13.0|    165|\n",
      "|       14.0|    120|\n",
      "|       15.0|     87|\n",
      "|       16.0|     55|\n",
      "|       17.0|     30|\n",
      "|       18.0|     30|\n",
      "|       19.0|     23|\n",
      "|       20.0|     17|\n",
      "|       21.0|     12|\n",
      "|       22.0|      5|\n",
      "|       24.0|      4|\n",
      "|       26.0|      3|\n",
      "|       29.0|      2|\n",
      "|       25.0|      2|\n",
      "|       23.0|      2|\n",
      "|       3.44|      2|\n",
      "|       30.0|      2|\n",
      "|       39.0|      1|\n",
      "|      17.18|      1|\n",
      "|      18.53|      1|\n",
      "|      21.72|      1|\n",
      "|       5.52|      1|\n",
      "|       1.37|      1|\n",
      "|      13.76|      1|\n",
      "|      22.95|      1|\n",
      "|       3.45|      1|\n",
      "+-----------+-------+\n",
      "only showing top 40 rows\n",
      "\n"
     ]
    }
   ],
   "source": [
    "spark.sql(\"select delinq_2yrs, count(*) as total from loan_defaulter group by delinq_2yrs order by total desc\").show(40)"
   ]
  },
  {
   "cell_type": "code",
   "execution_count": 47,
   "id": "e7b263ca",
   "metadata": {},
   "outputs": [],
   "source": [
    "from pyspark.sql.functions import *"
   ]
  },
  {
   "cell_type": "code",
   "execution_count": 48,
   "id": "221343ce",
   "metadata": {},
   "outputs": [
    {
     "data": {
      "text/html": [
       "<table border='1'>\n",
       "<tr><th>count(1)</th></tr>\n",
       "<tr><td>261</td></tr>\n",
       "</table>\n"
      ],
      "text/plain": [
       "+--------+\n",
       "|count(1)|\n",
       "+--------+\n",
       "|     261|\n",
       "+--------+"
      ]
     },
     "execution_count": 48,
     "metadata": {},
     "output_type": "execute_result"
    }
   ],
   "source": [
    "spark.sql(\"select count(*) from loan_defaulter where delinq_2yrs is null\")"
   ]
  },
  {
   "cell_type": "code",
   "execution_count": 54,
   "id": "94f59de8",
   "metadata": {},
   "outputs": [],
   "source": [
    "loans_def_processed_df = loans_default_ingested_df.withColumn(\"delinq_2yrs\", col(\"delinq_2yrs\").cast(\"integer\")).fillna(0, subset = [\"delinq_2yrs\"])"
   ]
  },
  {
   "cell_type": "code",
   "execution_count": 55,
   "id": "fc82417b",
   "metadata": {},
   "outputs": [],
   "source": [
    "loans_def_processed_df.createOrReplaceTempView(\"loan_defaulter\")"
   ]
  },
  {
   "cell_type": "code",
   "execution_count": 56,
   "id": "1adde3f5",
   "metadata": {},
   "outputs": [
    {
     "data": {
      "text/html": [
       "<table border='1'>\n",
       "<tr><th>count(1)</th></tr>\n",
       "<tr><td>0</td></tr>\n",
       "</table>\n"
      ],
      "text/plain": [
       "+--------+\n",
       "|count(1)|\n",
       "+--------+\n",
       "|       0|\n",
       "+--------+"
      ]
     },
     "execution_count": 56,
     "metadata": {},
     "output_type": "execute_result"
    }
   ],
   "source": [
    "spark.sql(\"select count(*) from loan_defaulter where delinq_2yrs is null\")"
   ]
  },
  {
   "cell_type": "code",
   "execution_count": 57,
   "id": "60891f1f",
   "metadata": {},
   "outputs": [
    {
     "data": {
      "text/html": [
       "<table border='1'>\n",
       "<tr><th>member_id</th><th>delinq_2yrs</th><th>delinq_amnt</th><th>pub_rec</th><th>pub_rec_bankruptcies</th><th>inq_last_6mths</th><th>total_rec_late_fee</th><th>mths_since_last_delinq</th><th>mths_since_last_record</th><th>ingest_date</th></tr>\n",
       "<tr><td>9cb79aa7323e81be1...</td><td>2</td><td>0.0</td><td>0.0</td><td>0.0</td><td>0.0</td><td>0.0</td><td>11.0</td><td>null</td><td>2025-03-30 08:35:...</td></tr>\n",
       "<tr><td>0dd2bbc517e3c8f9e...</td><td>0</td><td>0.0</td><td>1.0</td><td>1.0</td><td>3.0</td><td>0.0</td><td>null</td><td>115.0</td><td>2025-03-30 08:35:...</td></tr>\n",
       "<tr><td>458458599d3df3bfc...</td><td>0</td><td>0.0</td><td>1.0</td><td>1.0</td><td>1.0</td><td>0.0</td><td>null</td><td>76.0</td><td>2025-03-30 08:35:...</td></tr>\n",
       "<tr><td>05ea141ec28b5c7f7...</td><td>0</td><td>0.0</td><td>0.0</td><td>0.0</td><td>0.0</td><td>0.0</td><td>null</td><td>null</td><td>2025-03-30 08:35:...</td></tr>\n",
       "<tr><td>aac68850fdac09fd0...</td><td>1</td><td>0.0</td><td>0.0</td><td>0.0</td><td>0.0</td><td>0.0</td><td>21.0</td><td>null</td><td>2025-03-30 08:35:...</td></tr>\n",
       "<tr><td>3a423e4589e89f429...</td><td>0</td><td>0.0</td><td>0.0</td><td>0.0</td><td>0.0</td><td>0.0</td><td>null</td><td>null</td><td>2025-03-30 08:35:...</td></tr>\n",
       "<tr><td>f1efcf7dfbfef21be...</td><td>0</td><td>0.0</td><td>0.0</td><td>0.0</td><td>1.0</td><td>0.0</td><td>null</td><td>null</td><td>2025-03-30 08:35:...</td></tr>\n",
       "<tr><td>c89986155a070db2e...</td><td>1</td><td>0.0</td><td>0.0</td><td>0.0</td><td>1.0</td><td>15.0</td><td>5.0</td><td>null</td><td>2025-03-30 08:35:...</td></tr>\n",
       "<tr><td>118dc629b6e134419...</td><td>0</td><td>0.0</td><td>0.0</td><td>0.0</td><td>0.0</td><td>0.0</td><td>null</td><td>null</td><td>2025-03-30 08:35:...</td></tr>\n",
       "<tr><td>a86fa4b7493708333...</td><td>0</td><td>0.0</td><td>0.0</td><td>0.0</td><td>0.0</td><td>0.0</td><td>null</td><td>null</td><td>2025-03-30 08:35:...</td></tr>\n",
       "<tr><td>6e8d94bf446e97025...</td><td>0</td><td>0.0</td><td>0.0</td><td>0.0</td><td>0.0</td><td>0.0</td><td>36.0</td><td>null</td><td>2025-03-30 08:35:...</td></tr>\n",
       "<tr><td>3de585156dc6b73f6...</td><td>0</td><td>0.0</td><td>0.0</td><td>0.0</td><td>0.0</td><td>0.0</td><td>null</td><td>null</td><td>2025-03-30 08:35:...</td></tr>\n",
       "<tr><td>e88945f86a96f8d71...</td><td>0</td><td>0.0</td><td>0.0</td><td>0.0</td><td>1.0</td><td>0.0</td><td>null</td><td>null</td><td>2025-03-30 08:35:...</td></tr>\n",
       "<tr><td>42f73fd8a01f1c475...</td><td>0</td><td>0.0</td><td>0.0</td><td>0.0</td><td>0.0</td><td>0.0</td><td>46.0</td><td>null</td><td>2025-03-30 08:35:...</td></tr>\n",
       "<tr><td>c680bca32456530e6...</td><td>0</td><td>0.0</td><td>0.0</td><td>0.0</td><td>0.0</td><td>0.0</td><td>null</td><td>null</td><td>2025-03-30 08:35:...</td></tr>\n",
       "<tr><td>3c36e35bcc0379690...</td><td>0</td><td>0.0</td><td>0.0</td><td>0.0</td><td>0.0</td><td>0.0</td><td>null</td><td>null</td><td>2025-03-30 08:35:...</td></tr>\n",
       "<tr><td>4e1c30a5dfe9f1e20...</td><td>0</td><td>0.0</td><td>0.0</td><td>0.0</td><td>1.0</td><td>34.68</td><td>null</td><td>null</td><td>2025-03-30 08:35:...</td></tr>\n",
       "<tr><td>1eef79a0e79b72c7a...</td><td>1</td><td>0.0</td><td>0.0</td><td>0.0</td><td>0.0</td><td>0.0</td><td>21.0</td><td>null</td><td>2025-03-30 08:35:...</td></tr>\n",
       "<tr><td>89d42771f79636d22...</td><td>0</td><td>0.0</td><td>0.0</td><td>0.0</td><td>0.0</td><td>0.0</td><td>null</td><td>null</td><td>2025-03-30 08:35:...</td></tr>\n",
       "<tr><td>1dd1d1b51473d4993...</td><td>0</td><td>0.0</td><td>0.0</td><td>0.0</td><td>0.0</td><td>0.0</td><td>44.0</td><td>null</td><td>2025-03-30 08:35:...</td></tr>\n",
       "</table>\n",
       "only showing top 20 rows\n"
      ],
      "text/plain": [
       "+--------------------+-----------+-----------+-------+--------------------+--------------+------------------+----------------------+----------------------+--------------------+\n",
       "|           member_id|delinq_2yrs|delinq_amnt|pub_rec|pub_rec_bankruptcies|inq_last_6mths|total_rec_late_fee|mths_since_last_delinq|mths_since_last_record|         ingest_date|\n",
       "+--------------------+-----------+-----------+-------+--------------------+--------------+------------------+----------------------+----------------------+--------------------+\n",
       "|9cb79aa7323e81be1...|          2|        0.0|    0.0|                 0.0|           0.0|               0.0|                  11.0|                  null|2025-03-30 08:35:...|\n",
       "|0dd2bbc517e3c8f9e...|          0|        0.0|    1.0|                 1.0|           3.0|               0.0|                  null|                 115.0|2025-03-30 08:35:...|\n",
       "|458458599d3df3bfc...|          0|        0.0|    1.0|                 1.0|           1.0|               0.0|                  null|                  76.0|2025-03-30 08:35:...|\n",
       "|05ea141ec28b5c7f7...|          0|        0.0|    0.0|                 0.0|           0.0|               0.0|                  null|                  null|2025-03-30 08:35:...|\n",
       "|aac68850fdac09fd0...|          1|        0.0|    0.0|                 0.0|           0.0|               0.0|                  21.0|                  null|2025-03-30 08:35:...|\n",
       "|3a423e4589e89f429...|          0|        0.0|    0.0|                 0.0|           0.0|               0.0|                  null|                  null|2025-03-30 08:35:...|\n",
       "|f1efcf7dfbfef21be...|          0|        0.0|    0.0|                 0.0|           1.0|               0.0|                  null|                  null|2025-03-30 08:35:...|\n",
       "|c89986155a070db2e...|          1|        0.0|    0.0|                 0.0|           1.0|              15.0|                   5.0|                  null|2025-03-30 08:35:...|\n",
       "|118dc629b6e134419...|          0|        0.0|    0.0|                 0.0|           0.0|               0.0|                  null|                  null|2025-03-30 08:35:...|\n",
       "|a86fa4b7493708333...|          0|        0.0|    0.0|                 0.0|           0.0|               0.0|                  null|                  null|2025-03-30 08:35:...|\n",
       "|6e8d94bf446e97025...|          0|        0.0|    0.0|                 0.0|           0.0|               0.0|                  36.0|                  null|2025-03-30 08:35:...|\n",
       "|3de585156dc6b73f6...|          0|        0.0|    0.0|                 0.0|           0.0|               0.0|                  null|                  null|2025-03-30 08:35:...|\n",
       "|e88945f86a96f8d71...|          0|        0.0|    0.0|                 0.0|           1.0|               0.0|                  null|                  null|2025-03-30 08:35:...|\n",
       "|42f73fd8a01f1c475...|          0|        0.0|    0.0|                 0.0|           0.0|               0.0|                  46.0|                  null|2025-03-30 08:35:...|\n",
       "|c680bca32456530e6...|          0|        0.0|    0.0|                 0.0|           0.0|               0.0|                  null|                  null|2025-03-30 08:35:...|\n",
       "|3c36e35bcc0379690...|          0|        0.0|    0.0|                 0.0|           0.0|               0.0|                  null|                  null|2025-03-30 08:35:...|\n",
       "|4e1c30a5dfe9f1e20...|          0|        0.0|    0.0|                 0.0|           1.0|             34.68|                  null|                  null|2025-03-30 08:35:...|\n",
       "|1eef79a0e79b72c7a...|          1|        0.0|    0.0|                 0.0|           0.0|               0.0|                  21.0|                  null|2025-03-30 08:35:...|\n",
       "|89d42771f79636d22...|          0|        0.0|    0.0|                 0.0|           0.0|               0.0|                  null|                  null|2025-03-30 08:35:...|\n",
       "|1dd1d1b51473d4993...|          0|        0.0|    0.0|                 0.0|           0.0|               0.0|                  44.0|                  null|2025-03-30 08:35:...|\n",
       "+--------------------+-----------+-----------+-------+--------------------+--------------+------------------+----------------------+----------------------+--------------------+\n",
       "only showing top 20 rows"
      ]
     },
     "execution_count": 57,
     "metadata": {},
     "output_type": "execute_result"
    }
   ],
   "source": [
    "spark.sql(\"select * from loan_defaulter\")"
   ]
  },
  {
   "cell_type": "code",
   "execution_count": 58,
   "id": "6932affa",
   "metadata": {},
   "outputs": [],
   "source": [
    "loans_def_delinq_df = spark.sql(\"select member_id, delinq_2yrs, delinq_amnt, int(mths_since_last_delinq), ingest_date from loan_defaulter where delinq_2yrs >0 and mths_since_last_delinq > 0\")"
   ]
  },
  {
   "cell_type": "code",
   "execution_count": 62,
   "id": "bb72589c",
   "metadata": {},
   "outputs": [],
   "source": [
    "loans_def_records_enq_df = spark.sql(\"select member_id from loan_defaulter where pub_rec > 0.0 or pub_rec_bankruptcies > 0.0 or inq_last_6mths > 0.0\")"
   ]
  },
  {
   "cell_type": "code",
   "execution_count": 63,
   "id": "af744ba0",
   "metadata": {},
   "outputs": [
    {
     "data": {
      "text/plain": [
       "1070125"
      ]
     },
     "execution_count": 63,
     "metadata": {},
     "output_type": "execute_result"
    }
   ],
   "source": [
    "loans_def_records_enq_df.count()"
   ]
  },
  {
   "cell_type": "code",
   "execution_count": 65,
   "id": "09953559",
   "metadata": {},
   "outputs": [],
   "source": [
    "loans_def_records_enq_df.write \\\n",
    ".option(\"header\", True) \\\n",
    ".format(\"csv\") \\\n",
    ".mode(\"overwrite\") \\\n",
    ".option(\"path\", \"/user/itv015703/lendingclubproject/raw/cleaned/loans_defaulters_deling_csv\") \\\n",
    ".save()"
   ]
  },
  {
   "cell_type": "code",
   "execution_count": 66,
   "id": "cc09f73b",
   "metadata": {},
   "outputs": [],
   "source": [
    "loans_def_records_enq_df.write \\\n",
    ".format(\"parquet\") \\\n",
    ".mode(\"overwrite\") \\\n",
    ".option(\"path\", \"/user/itv015703/lendingclubproject/raw/cleaned/loans_defaulters_deling_parquet\") \\\n",
    ".save()\n"
   ]
  },
  {
   "cell_type": "code",
   "execution_count": 67,
   "id": "24972b49",
   "metadata": {},
   "outputs": [],
   "source": [
    "loans_def_records_enq_df.write \\\n",
    ".option(\"header\", True) \\\n",
    ".format(\"csv\") \\\n",
    ".mode(\"overwrite\") \\\n",
    ".option(\"path\", \"/user/itv015703/lendingclubproject/raw/cleaned/loans_defaulters_records_enq_csv\") \\\n",
    ".save()"
   ]
  },
  {
   "cell_type": "code",
   "execution_count": 68,
   "id": "dcd8c0df",
   "metadata": {},
   "outputs": [],
   "source": [
    "loans_def_records_enq_df.write \\\n",
    ".format(\"parquet\") \\\n",
    ".mode(\"overwrite\") \\\n",
    ".option(\"path\", \"/user/itv015703/lendingclubproject/raw/cleaned/loans_defaulters_records_enq_parquet\") \\\n",
    ".save()"
   ]
  },
  {
   "cell_type": "code",
   "execution_count": 70,
   "id": "29065d65",
   "metadata": {},
   "outputs": [],
   "source": [
    "loans_def_detail_record_delinq_df = spark.sql(\"select member_id, pub_rec, pub_rec_bankruptcies, inq_last_6mths, ingest_date from loan_defaulter where pub_rec > 0.0 or pub_rec_bankruptcies > 0.0 or inq_last_6mths > 0.0\")"
   ]
  },
  {
   "cell_type": "code",
   "execution_count": 71,
   "id": "9828fc87",
   "metadata": {},
   "outputs": [],
   "source": [
    "loans_def_processed_public_record_df = loans_def_detail_record_delinq_df.withColumn(\"pub_rec\", col(\"pub_rec\").cast(\"integer\")).fillna(0, subset = [\"pub_rec\"])\n",
    "loans_def_processed_public_record_bankruptcies_df = loans_def_processed_public_record_df.withColumn(\"pub_rec_bankruptcies\", col(\"pub_rec_bankruptcies\").cast(\"integer\")).fillna(0, subset = [\"pub_rec_bankruptcies\"])\n",
    "loans_def_processed_public_record_inq6mths_df = loans_def_processed_public_record_bankruptcies_df.withColumn(\"inq_last_6mths\", col(\"inq_last_6mths\").cast(\"integer\")).fillna(0, subset = [\"inq_last_6mths\"])\n",
    "loans_def_processed_public_record_inq6mths_df.createOrReplaceTempView(\"loan_defaulters\")\n",
    "loans_def_detail_record_final_df = spark.sql(\"select member_id, pub_rec, pub_rec_bankruptcies, inq_last_6mths, ingest_date from loan_defaulters\")"
   ]
  },
  {
   "cell_type": "code",
   "execution_count": 73,
   "id": "51ec6e8e",
   "metadata": {},
   "outputs": [],
   "source": [
    "loans_def_detail_record_final_df.write\\\n",
    ".format(\"parquet\")\\\n",
    ".mode(\"overwrite\")\\\n",
    ".option(\"path\", \"/user/itv015703/lendingclubproject/cleaned/loan_defaulters_detail_records_enq_parquet\")\\\n",
    ".save()"
   ]
  },
  {
   "cell_type": "code",
   "execution_count": 74,
   "id": "94481254",
   "metadata": {},
   "outputs": [],
   "source": [
    "loans_def_detail_record_final_df.write\\\n",
    ".option(\"header\", True)\\\n",
    ".format(\"csv\")\\\n",
    ".mode(\"overwrite\")\\\n",
    ".option(\"path\", \"/user/itv015703/lendingclubproject/cleaned/loan_defaulters_detail_records_enq_csv\")\\\n",
    ".save()"
   ]
  },
  {
   "cell_type": "code",
   "execution_count": 75,
   "id": "1afedff6",
   "metadata": {},
   "outputs": [],
   "source": [
    "spark.stop()"
   ]
  },
  {
   "cell_type": "code",
   "execution_count": null,
   "id": "3d2b533c",
   "metadata": {},
   "outputs": [],
   "source": []
  }
 ],
 "metadata": {
  "kernelspec": {
   "display_name": "Pyspark 3",
   "language": "python",
   "name": "pyspark3"
  },
  "language_info": {
   "codemirror_mode": {
    "name": "ipython",
    "version": 3
   },
   "file_extension": ".py",
   "mimetype": "text/x-python",
   "name": "python",
   "nbconvert_exporter": "python",
   "pygments_lexer": "ipython3",
   "version": "3.6.12"
  }
 },
 "nbformat": 4,
 "nbformat_minor": 5
}
