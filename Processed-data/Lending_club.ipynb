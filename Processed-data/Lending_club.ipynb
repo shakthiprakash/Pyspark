{
 "cells": [
  {
   "cell_type": "code",
   "execution_count": 1,
   "id": "57a8c20c",
   "metadata": {},
   "outputs": [],
   "source": [
    "from pyspark.sql import SparkSession\n",
    "import getpass\n",
    "username = getpass.getuser()\n",
    "\n",
    "spark= SparkSession. \\\n",
    "builder. \\\n",
    "config('spark.ui.port','0'). \\\n",
    "config(\"spark.sql.warehouse.dir\", f\"/user/{username}/warehouse\"). \\\n",
    "enableHiveSupport(). \\\n",
    "master('yarn'). \\\n",
    "getOrCreate()"
   ]
  },
  {
   "cell_type": "code",
   "execution_count": 2,
   "id": "aaf30aa3",
   "metadata": {},
   "outputs": [],
   "source": [
    "raw_df = spark.read\\\n",
    ".format(\"csv\")\\\n",
    ".option(\"header\", True)\\\n",
    ".option(\"inferSchema\", True)\\\n",
    ".load(\"/public/trendytech/datasets/accepted_2007_to_2018Q4.csv\")"
   ]
  },
  {
   "cell_type": "code",
   "execution_count": 3,
   "id": "818bb326",
   "metadata": {},
   "outputs": [],
   "source": [
    "raw_df.createOrReplaceTempView(\"lending_club_raw_data\")"
   ]
  },
  {
   "cell_type": "code",
   "execution_count": 4,
   "id": "b90e133c",
   "metadata": {},
   "outputs": [
    {
     "data": {
      "text/html": [
       "<table border='1'>\n",
       "<tr><th>id</th><th>member_id</th><th>loan_amnt</th><th>funded_amnt</th><th>funded_amnt_inv</th><th>term</th><th>int_rate</th><th>installment</th><th>grade</th><th>sub_grade</th><th>emp_title</th><th>emp_length</th><th>home_ownership</th><th>annual_inc</th><th>verification_status</th><th>issue_d</th><th>loan_status</th><th>pymnt_plan</th><th>url</th><th>desc</th><th>purpose</th><th>title</th><th>zip_code</th><th>addr_state</th><th>dti</th><th>delinq_2yrs</th><th>earliest_cr_line</th><th>fico_range_low</th><th>fico_range_high</th><th>inq_last_6mths</th><th>mths_since_last_delinq</th><th>mths_since_last_record</th><th>open_acc</th><th>pub_rec</th><th>revol_bal</th><th>revol_util</th><th>total_acc</th><th>initial_list_status</th><th>out_prncp</th><th>out_prncp_inv</th><th>total_pymnt</th><th>total_pymnt_inv</th><th>total_rec_prncp</th><th>total_rec_int</th><th>total_rec_late_fee</th><th>recoveries</th><th>collection_recovery_fee</th><th>last_pymnt_d</th><th>last_pymnt_amnt</th><th>next_pymnt_d</th><th>last_credit_pull_d</th><th>last_fico_range_high</th><th>last_fico_range_low</th><th>collections_12_mths_ex_med</th><th>mths_since_last_major_derog</th><th>policy_code</th><th>application_type</th><th>annual_inc_joint</th><th>dti_joint</th><th>verification_status_joint</th><th>acc_now_delinq</th><th>tot_coll_amt</th><th>tot_cur_bal</th><th>open_acc_6m</th><th>open_act_il</th><th>open_il_12m</th><th>open_il_24m</th><th>mths_since_rcnt_il</th><th>total_bal_il</th><th>il_util</th><th>open_rv_12m</th><th>open_rv_24m</th><th>max_bal_bc</th><th>all_util</th><th>total_rev_hi_lim</th><th>inq_fi</th><th>total_cu_tl</th><th>inq_last_12m</th><th>acc_open_past_24mths</th><th>avg_cur_bal</th><th>bc_open_to_buy</th><th>bc_util</th><th>chargeoff_within_12_mths</th><th>delinq_amnt</th><th>mo_sin_old_il_acct</th><th>mo_sin_old_rev_tl_op</th><th>mo_sin_rcnt_rev_tl_op</th><th>mo_sin_rcnt_tl</th><th>mort_acc</th><th>mths_since_recent_bc</th><th>mths_since_recent_bc_dlq</th><th>mths_since_recent_inq</th><th>mths_since_recent_revol_delinq</th><th>num_accts_ever_120_pd</th><th>num_actv_bc_tl</th><th>num_actv_rev_tl</th><th>num_bc_sats</th><th>num_bc_tl</th><th>num_il_tl</th><th>num_op_rev_tl</th><th>num_rev_accts</th><th>num_rev_tl_bal_gt_0</th><th>num_sats</th><th>num_tl_120dpd_2m</th><th>num_tl_30dpd</th><th>num_tl_90g_dpd_24m</th><th>num_tl_op_past_12m</th><th>pct_tl_nvr_dlq</th><th>percent_bc_gt_75</th><th>pub_rec_bankruptcies</th><th>tax_liens</th><th>tot_hi_cred_lim</th><th>total_bal_ex_mort</th><th>total_bc_limit</th><th>total_il_high_credit_limit</th><th>revol_bal_joint</th><th>sec_app_fico_range_low</th><th>sec_app_fico_range_high</th><th>sec_app_earliest_cr_line</th><th>sec_app_inq_last_6mths</th><th>sec_app_mort_acc</th><th>sec_app_open_acc</th><th>sec_app_revol_util</th><th>sec_app_open_act_il</th><th>sec_app_num_rev_accts</th><th>sec_app_chargeoff_within_12_mths</th><th>sec_app_collections_12_mths_ex_med</th><th>sec_app_mths_since_last_major_derog</th><th>hardship_flag</th><th>hardship_type</th><th>hardship_reason</th><th>hardship_status</th><th>deferral_term</th><th>hardship_amount</th><th>hardship_start_date</th><th>hardship_end_date</th><th>payment_plan_start_date</th><th>hardship_length</th><th>hardship_dpd</th><th>hardship_loan_status</th><th>orig_projected_additional_accrued_interest</th><th>hardship_payoff_balance_amount</th><th>hardship_last_payment_amount</th><th>disbursement_method</th><th>debt_settlement_flag</th><th>debt_settlement_flag_date</th><th>settlement_status</th><th>settlement_date</th><th>settlement_amount</th><th>settlement_percentage</th><th>settlement_term</th></tr>\n",
       "<tr><td>109653473</td><td>null</td><td>25475.0</td><td>25475.0</td><td>25450.0</td><td> 36 months</td><td>14.08</td><td>871.67</td><td>C</td><td>C3</td><td>Regional Manager</td><td>8 years</td><td>RENT</td><td>130000.0</td><td>Verified</td><td>May-2017</td><td>Late (31-120 days)</td><td>n</td><td>https://lendingcl...</td><td>null</td><td>debt_consolidation</td><td>Debt consolidation</td><td>069xx</td><td>CT</td><td>20.37</td><td>1.0</td><td>Jul-2003</td><td>680.0</td><td>684.0</td><td>2.0</td><td>11.0</td><td>null</td><td>15.0</td><td>0.0</td><td>21820.0</td><td>34.7</td><td>44.0</td><td>f</td><td>16892.97</td><td>16876.4</td><td>12748.22</td><td>12735.71</td><td>8582.03</td><td>4166.19</td><td>0.0</td><td>0.0</td><td>0.0</td><td>Nov-2018</td><td>198.22</td><td>Apr-2019</td><td>Mar-2019</td><td>509.0</td><td>505.0</td><td>0.0</td><td>11.0</td><td>1.0</td><td>Individual</td><td>null</td><td>null</td><td>null</td><td>0.0</td><td>0.0</td><td>81935.0</td><td>1.0</td><td>3.0</td><td>0.0</td><td>1.0</td><td>14.0</td><td>60115.0</td><td>92.0</td><td>1.0</td><td>4.0</td><td>14511.0</td><td>56.0</td><td>62900.0</td><td>4.0</td><td>0.0</td><td>10.0</td><td>5.0</td><td>5462.0</td><td>18817.0</td><td>52.7</td><td>1.0</td><td>0.0</td><td>144.0</td><td>137.0</td><td>5.0</td><td>5.0</td><td>0.0</td><td>5.0</td><td>null</td><td>6.0</td><td>null</td><td>1.0</td><td>5.0</td><td>7.0</td><td>7.0</td><td>20.0</td><td>17.0</td><td>12.0</td><td>26.0</td><td>7.0</td><td>15.0</td><td>0.0</td><td>0.0</td><td>1.0</td><td>1.0</td><td>93.0</td><td>42.9</td><td>0.0</td><td>0.0</td><td>135904.0</td><td>81935.0</td><td>39800.0</td><td>73004.0</td><td>null</td><td>null</td><td>null</td><td>null</td><td>null</td><td>null</td><td>null</td><td>null</td><td>null</td><td>null</td><td>null</td><td>null</td><td>null</td><td>N</td><td>INTEREST ONLY-3 M...</td><td>INCOME_CURTAILMENT</td><td>COMPLETED</td><td>3.0</td><td>198.22</td><td>Sep-2018</td><td>Nov-2018</td><td>Sep-2018</td><td>3.0</td><td>10.0</td><td>In Grace Period</td><td>594.66</td><td>17164.72</td><td>368.2</td><td>Cash</td><td>N</td><td>null</td><td>null</td><td>null</td><td>null</td><td>null</td><td>null</td></tr>\n",
       "<tr><td>109677516</td><td>null</td><td>14400.0</td><td>14400.0</td><td>14400.0</td><td> 36 months</td><td>12.62</td><td>482.57</td><td>C</td><td>C1</td><td>null</td><td>null</td><td>RENT</td><td>12000.0</td><td>Verified</td><td>May-2017</td><td>Current</td><td>n</td><td>https://lendingcl...</td><td>null</td><td>debt_consolidation</td><td>Debt consolidation</td><td>953xx</td><td>CA</td><td>7.4</td><td>0.0</td><td>Jan-1994</td><td>660.0</td><td>664.0</td><td>0.0</td><td>null</td><td>63.0</td><td>5.0</td><td>1.0</td><td>2112.0</td><td>27.4</td><td>14.0</td><td>w</td><td>6663.87</td><td>6663.87</td><td>10139.02</td><td>10139.02</td><td>7736.13</td><td>2402.89</td><td>0.0</td><td>0.0</td><td>0.0</td><td>Mar-2019</td><td>482.57</td><td>Apr-2019</td><td>Mar-2019</td><td>709.0</td><td>705.0</td><td>0.0</td><td>null</td><td>1.0</td><td>Joint App</td><td>62000.0</td><td>1.43</td><td>Verified</td><td>0.0</td><td>0.0</td><td>2112.0</td><td>1.0</td><td>0.0</td><td>0.0</td><td>0.0</td><td>132.0</td><td>0.0</td><td>null</td><td>2.0</td><td>3.0</td><td>1580.0</td><td>27.0</td><td>7700.0</td><td>0.0</td><td>0.0</td><td>0.0</td><td>3.0</td><td>422.0</td><td>4188.0</td><td>33.5</td><td>0.0</td><td>0.0</td><td>136.0</td><td>280.0</td><td>5.0</td><td>5.0</td><td>1.0</td><td>10.0</td><td>null</td><td>null</td><td>null</td><td>0.0</td><td>2.0</td><td>2.0</td><td>2.0</td><td>5.0</td><td>2.0</td><td>5.0</td><td>11.0</td><td>2.0</td><td>5.0</td><td>0.0</td><td>0.0</td><td>0.0</td><td>2.0</td><td>100.0</td><td>0.0</td><td>1.0</td><td>0.0</td><td>7700.0</td><td>2112.0</td><td>6300.0</td><td>0.0</td><td>2112.0</td><td>570.0</td><td>574.0</td><td>Jan-1994</td><td>0.0</td><td>1.0</td><td>1.0</td><td>23.1</td><td>0.0</td><td>6.0</td><td>0.0</td><td>0.0</td><td>null</td><td>N</td><td>null</td><td>null</td><td>null</td><td>null</td><td>null</td><td>null</td><td>null</td><td>null</td><td>null</td><td>null</td><td>null</td><td>null</td><td>null</td><td>null</td><td>Cash</td><td>N</td><td>null</td><td>null</td><td>null</td><td>null</td><td>null</td><td>null</td></tr>\n",
       "<tr><td>109910042</td><td>null</td><td>4000.0</td><td>4000.0</td><td>4000.0</td><td> 36 months</td><td>7.07</td><td>123.64</td><td>A</td><td>A2</td><td>Manager</td><td>6 years</td><td>MORTGAGE</td><td>103000.0</td><td>Not Verified</td><td>May-2017</td><td>Fully Paid</td><td>n</td><td>https://lendingcl...</td><td>null</td><td>credit_card</td><td>Credit card refin...</td><td>922xx</td><td>CA</td><td>14.8</td><td>0.0</td><td>Oct-1984</td><td>735.0</td><td>739.0</td><td>0.0</td><td>67.0</td><td>null</td><td>17.0</td><td>0.0</td><td>15715.0</td><td>31.7</td><td>28.0</td><td>w</td><td>0.0</td><td>0.0</td><td>4226.7985259120005</td><td>4226.8</td><td>4000.0</td><td>226.8</td><td>0.0</td><td>0.0</td><td>0.0</td><td>May-2018</td><td>2994.33</td><td>null</td><td>Mar-2019</td><td>709.0</td><td>705.0</td><td>0.0</td><td>67.0</td><td>1.0</td><td>Individual</td><td>null</td><td>null</td><td>null</td><td>0.0</td><td>0.0</td><td>454567.0</td><td>2.0</td><td>4.0</td><td>2.0</td><td>5.0</td><td>3.0</td><td>80317.0</td><td>90.0</td><td>3.0</td><td>4.0</td><td>6222.0</td><td>69.0</td><td>49500.0</td><td>0.0</td><td>0.0</td><td>0.0</td><td>9.0</td><td>28410.0</td><td>22873.0</td><td>24.8</td><td>0.0</td><td>0.0</td><td>66.0</td><td>391.0</td><td>3.0</td><td>3.0</td><td>4.0</td><td>3.0</td><td>null</td><td>21.0</td><td>null</td><td>1.0</td><td>4.0</td><td>7.0</td><td>5.0</td><td>7.0</td><td>7.0</td><td>12.0</td><td>17.0</td><td>7.0</td><td>17.0</td><td>0.0</td><td>0.0</td><td>0.0</td><td>5.0</td><td>96.4</td><td>0.0</td><td>0.0</td><td>0.0</td><td>511251.0</td><td>96032.0</td><td>30400.0</td><td>89372.0</td><td>null</td><td>null</td><td>null</td><td>null</td><td>null</td><td>null</td><td>null</td><td>null</td><td>null</td><td>null</td><td>null</td><td>null</td><td>null</td><td>N</td><td>null</td><td>null</td><td>null</td><td>null</td><td>null</td><td>null</td><td>null</td><td>null</td><td>null</td><td>null</td><td>null</td><td>null</td><td>null</td><td>null</td><td>Cash</td><td>N</td><td>null</td><td>null</td><td>null</td><td>null</td><td>null</td><td>null</td></tr>\n",
       "<tr><td>109767343</td><td>null</td><td>30000.0</td><td>30000.0</td><td>30000.0</td><td> 36 months</td><td>17.09</td><td>1070.93</td><td>D</td><td>D1</td><td>Clinical Coordinator</td><td>6 years</td><td>MORTGAGE</td><td>64300.0</td><td>Source Verified</td><td>May-2017</td><td>Current</td><td>n</td><td>https://lendingcl...</td><td>null</td><td>other</td><td>Other</td><td>871xx</td><td>NM</td><td>12.93</td><td>0.0</td><td>Apr-1992</td><td>690.0</td><td>694.0</td><td>0.0</td><td>null</td><td>66.0</td><td>13.0</td><td>1.0</td><td>5634.0</td><td>10.6</td><td>30.0</td><td>w</td><td>13506.06</td><td>13506.06</td><td>23489.25</td><td>23489.25</td><td>16493.94</td><td>6995.31</td><td>0.0</td><td>0.0</td><td>0.0</td><td>Mar-2019</td><td>1070.93</td><td>Apr-2019</td><td>Mar-2019</td><td>709.0</td><td>705.0</td><td>0.0</td><td>null</td><td>1.0</td><td>Individual</td><td>null</td><td>null</td><td>null</td><td>0.0</td><td>0.0</td><td>162716.0</td><td>0.0</td><td>1.0</td><td>1.0</td><td>1.0</td><td>10.0</td><td>27883.0</td><td>90.0</td><td>2.0</td><td>5.0</td><td>4248.0</td><td>40.0</td><td>53300.0</td><td>6.0</td><td>2.0</td><td>8.0</td><td>6.0</td><td>12517.0</td><td>39135.0</td><td>12.3</td><td>0.0</td><td>0.0</td><td>151.0</td><td>301.0</td><td>8.0</td><td>8.0</td><td>3.0</td><td>8.0</td><td>null</td><td>0.0</td><td>null</td><td>0.0</td><td>4.0</td><td>6.0</td><td>7.0</td><td>14.0</td><td>4.0</td><td>11.0</td><td>23.0</td><td>6.0</td><td>13.0</td><td>0.0</td><td>0.0</td><td>0.0</td><td>3.0</td><td>100.0</td><td>0.0</td><td>1.0</td><td>0.0</td><td>233646.0</td><td>33517.0</td><td>44600.0</td><td>30927.0</td><td>null</td><td>null</td><td>null</td><td>null</td><td>null</td><td>null</td><td>null</td><td>null</td><td>null</td><td>null</td><td>null</td><td>null</td><td>null</td><td>N</td><td>null</td><td>null</td><td>null</td><td>null</td><td>null</td><td>null</td><td>null</td><td>null</td><td>null</td><td>null</td><td>null</td><td>null</td><td>null</td><td>null</td><td>Cash</td><td>N</td><td>null</td><td>null</td><td>null</td><td>null</td><td>null</td><td>null</td></tr>\n",
       "<tr><td>109858215</td><td>null</td><td>11500.0</td><td>11500.0</td><td>11500.0</td><td> 36 months</td><td>15.05</td><td>398.94</td><td>C</td><td>C4</td><td>Warehouse supervisor</td><td>3 years</td><td>RENT</td><td>32000.0</td><td>Not Verified</td><td>May-2017</td><td>Current</td><td>n</td><td>https://lendingcl...</td><td>null</td><td>other</td><td>Other</td><td>073xx</td><td>NJ</td><td>23.74</td><td>1.0</td><td>Feb-2005</td><td>700.0</td><td>704.0</td><td>0.0</td><td>15.0</td><td>108.0</td><td>11.0</td><td>1.0</td><td>7832.0</td><td>40.8</td><td>18.0</td><td>w</td><td>5092.89</td><td>5092.89</td><td>8752.64</td><td>8752.64</td><td>6407.11</td><td>2345.53</td><td>0.0</td><td>0.0</td><td>0.0</td><td>Mar-2019</td><td>398.94</td><td>Apr-2019</td><td>Mar-2019</td><td>679.0</td><td>675.0</td><td>0.0</td><td>null</td><td>1.0</td><td>Individual</td><td>null</td><td>null</td><td>null</td><td>0.0</td><td>0.0</td><td>14871.0</td><td>0.0</td><td>3.0</td><td>0.0</td><td>1.0</td><td>22.0</td><td>7039.0</td><td>28.0</td><td>3.0</td><td>5.0</td><td>3704.0</td><td>34.0</td><td>19200.0</td><td>0.0</td><td>0.0</td><td>0.0</td><td>6.0</td><td>1352.0</td><td>10168.0</td><td>43.5</td><td>0.0</td><td>0.0</td><td>147.0</td><td>133.0</td><td>10.0</td><td>10.0</td><td>0.0</td><td>10.0</td><td>null</td><td>19.0</td><td>15.0</td><td>0.0</td><td>5.0</td><td>5.0</td><td>6.0</td><td>8.0</td><td>7.0</td><td>8.0</td><td>10.0</td><td>5.0</td><td>11.0</td><td>0.0</td><td>0.0</td><td>0.0</td><td>3.0</td><td>94.4</td><td>33.3</td><td>1.0</td><td>0.0</td><td>44200.0</td><td>14871.0</td><td>18000.0</td><td>25000.0</td><td>null</td><td>null</td><td>null</td><td>null</td><td>null</td><td>null</td><td>null</td><td>null</td><td>null</td><td>null</td><td>null</td><td>null</td><td>null</td><td>N</td><td>null</td><td>null</td><td>null</td><td>null</td><td>null</td><td>null</td><td>null</td><td>null</td><td>null</td><td>null</td><td>null</td><td>null</td><td>null</td><td>null</td><td>Cash</td><td>N</td><td>null</td><td>null</td><td>null</td><td>null</td><td>null</td><td>null</td></tr>\n",
       "</table>\n"
      ],
      "text/plain": [
       "+--------+---------+---------+-----------+---------------+----------+--------+-----------+-----+---------+--------------------+----------+--------------+----------+-------------------+--------+-----------+----------+--------------------+----+------------------+--------------------+--------+----------+-----+-----------+----------------+--------------+---------------+--------------+----------------------+----------------------+--------+-------+---------+----------+---------+-------------------+---------+-------------+------------------+---------------+---------------+-------------+------------------+----------+-----------------------+------------+---------------+------------+------------------+--------------------+-------------------+--------------------------+---------------------------+-----------+----------------+----------------+---------+-------------------------+--------------+------------+-----------+-----------+-----------+-----------+-----------+------------------+------------+-------+-----------+-----------+----------+--------+----------------+------+-----------+------------+--------------------+-----------+--------------+-------+------------------------+-----------+------------------+--------------------+---------------------+--------------+--------+--------------------+------------------------+---------------------+------------------------------+---------------------+--------------+---------------+-----------+---------+---------+-------------+-------------+-------------------+--------+----------------+------------+------------------+------------------+--------------+----------------+--------------------+---------+---------------+-----------------+--------------+--------------------------+---------------+----------------------+-----------------------+------------------------+----------------------+----------------+----------------+------------------+-------------------+---------------------+--------------------------------+----------------------------------+-----------------------------------+-------------+-------------+---------------+---------------+-------------+---------------+-------------------+-----------------+-----------------------+---------------+------------+--------------------+------------------------------------------+------------------------------+----------------------------+-------------------+--------------------+-------------------------+-----------------+---------------+-----------------+---------------------+---------------+\n",
       "|      id|member_id|loan_amnt|funded_amnt|funded_amnt_inv|      term|int_rate|installment|grade|sub_grade|           emp_title|emp_length|home_ownership|annual_inc|verification_status| issue_d|loan_status|pymnt_plan|                 url|desc|           purpose|               title|zip_code|addr_state|  dti|delinq_2yrs|earliest_cr_line|fico_range_low|fico_range_high|inq_last_6mths|mths_since_last_delinq|mths_since_last_record|open_acc|pub_rec|revol_bal|revol_util|total_acc|initial_list_status|out_prncp|out_prncp_inv|       total_pymnt|total_pymnt_inv|total_rec_prncp|total_rec_int|total_rec_late_fee|recoveries|collection_recovery_fee|last_pymnt_d|last_pymnt_amnt|next_pymnt_d|last_credit_pull_d|last_fico_range_high|last_fico_range_low|collections_12_mths_ex_med|mths_since_last_major_derog|policy_code|application_type|annual_inc_joint|dti_joint|verification_status_joint|acc_now_delinq|tot_coll_amt|tot_cur_bal|open_acc_6m|open_act_il|open_il_12m|open_il_24m|mths_since_rcnt_il|total_bal_il|il_util|open_rv_12m|open_rv_24m|max_bal_bc|all_util|total_rev_hi_lim|inq_fi|total_cu_tl|inq_last_12m|acc_open_past_24mths|avg_cur_bal|bc_open_to_buy|bc_util|chargeoff_within_12_mths|delinq_amnt|mo_sin_old_il_acct|mo_sin_old_rev_tl_op|mo_sin_rcnt_rev_tl_op|mo_sin_rcnt_tl|mort_acc|mths_since_recent_bc|mths_since_recent_bc_dlq|mths_since_recent_inq|mths_since_recent_revol_delinq|num_accts_ever_120_pd|num_actv_bc_tl|num_actv_rev_tl|num_bc_sats|num_bc_tl|num_il_tl|num_op_rev_tl|num_rev_accts|num_rev_tl_bal_gt_0|num_sats|num_tl_120dpd_2m|num_tl_30dpd|num_tl_90g_dpd_24m|num_tl_op_past_12m|pct_tl_nvr_dlq|percent_bc_gt_75|pub_rec_bankruptcies|tax_liens|tot_hi_cred_lim|total_bal_ex_mort|total_bc_limit|total_il_high_credit_limit|revol_bal_joint|sec_app_fico_range_low|sec_app_fico_range_high|sec_app_earliest_cr_line|sec_app_inq_last_6mths|sec_app_mort_acc|sec_app_open_acc|sec_app_revol_util|sec_app_open_act_il|sec_app_num_rev_accts|sec_app_chargeoff_within_12_mths|sec_app_collections_12_mths_ex_med|sec_app_mths_since_last_major_derog|hardship_flag|hardship_type|hardship_reason|hardship_status|deferral_term|hardship_amount|hardship_start_date|hardship_end_date|payment_plan_start_date|hardship_length|hardship_dpd|hardship_loan_status|orig_projected_additional_accrued_interest|hardship_payoff_balance_amount|hardship_last_payment_amount|disbursement_method|debt_settlement_flag|debt_settlement_flag_date|settlement_status|settlement_date|settlement_amount|settlement_percentage|settlement_term|\n",
       "+--------+---------+---------+-----------+---------------+----------+--------+-----------+-----+---------+--------------------+----------+--------------+----------+-------------------+--------+-----------+----------+--------------------+----+------------------+--------------------+--------+----------+-----+-----------+----------------+--------------+---------------+--------------+----------------------+----------------------+--------+-------+---------+----------+---------+-------------------+---------+-------------+------------------+---------------+---------------+-------------+------------------+----------+-----------------------+------------+---------------+------------+------------------+--------------------+-------------------+--------------------------+---------------------------+-----------+----------------+----------------+---------+-------------------------+--------------+------------+-----------+-----------+-----------+-----------+-----------+------------------+------------+-------+-----------+-----------+----------+--------+----------------+------+-----------+------------+--------------------+-----------+--------------+-------+------------------------+-----------+------------------+--------------------+---------------------+--------------+--------+--------------------+------------------------+---------------------+------------------------------+---------------------+--------------+---------------+-----------+---------+---------+-------------+-------------+-------------------+--------+----------------+------------+------------------+------------------+--------------+----------------+--------------------+---------+---------------+-----------------+--------------+--------------------------+---------------+----------------------+-----------------------+------------------------+----------------------+----------------+----------------+------------------+-------------------+---------------------+--------------------------------+----------------------------------+-----------------------------------+-------------+-------------+---------------+---------------+-------------+---------------+-------------------+-----------------+-----------------------+---------------+------------+--------------------+------------------------------------------+------------------------------+----------------------------+-------------------+--------------------+-------------------------+-----------------+---------------+-----------------+---------------------+---------------+\n",
       "|40391322|     null|  35000.0|    35000.0|        34975.0| 60 months|   19.99|      927.1|    E|       E3|                  IT|   3 years|          RENT|   92000.0|           Verified|Feb-2015| Fully Paid|         n|https://lendingcl...|null|debt_consolidation|  Debt consolidation|   088xx|        NJ|30.52|        0.0|        Aug-2003|         680.0|          684.0|           0.0|                  null|                  null|    16.0|    0.0|  29715.0|      87.1|     29.0|                  w|      0.0|          0.0|  47216.1362832991|       47182.41|        35000.0|     12216.14|               0.0|       0.0|                    0.0|    Jan-2017|        26591.6|        null|          Mar-2019|               669.0|              665.0|                       0.0|                       null|        1.0|      Individual|            null|     null|                     null|           0.0|         0.0|   105431.0|       null|       null|       null|       null|              null|        null|   null|       null|       null|      null|    null|         34100.0|  null|       null|        null|                 6.0|     6589.0|        1654.0|   93.0|                     0.0|        0.0|              77.0|               137.0|                  0.0|           0.0|     0.0|                22.0|                    null|                  9.0|                          null|                  0.0|           6.0|           12.0|        6.0|      9.0|     12.0|         12.0|         17.0|               12.0|    16.0|             0.0|         0.0|               0.0|               4.0|         100.0|           100.0|                 0.0|      0.0|       132523.0|         105431.0|       23600.0|                   98423.0|           null|                  null|                   null|                    null|                  null|            null|            null|              null|               null|                 null|                            null|                              null|                               null|            N|         null|           null|           null|         null|           null|               null|             null|                   null|           null|        null|                null|                                      null|                          null|                        null|               Cash|                   N|                     null|             null|           null|             null|                 null|           null|\n",
       "|40461475|     null|   5600.0|     5600.0|         5600.0| 36 months|   14.31|     192.24|    C|       C4|    District Manager|   7 years|          RENT|   45000.0|           Verified|Feb-2015|Charged Off|         n|https://lendingcl...|null|debt_consolidation|  Debt consolidation|   787xx|        TX|21.79|        0.0|        Oct-2011|         685.0|          689.0|           1.0|                  null|                 113.0|    12.0|    1.0|   3736.0|      31.4|     15.0|                  w|      0.0|          0.0|           4495.21|        4495.21|        3134.82|      1102.93|               0.0|    257.46|                46.3428|    Dec-2016|         192.24|        null|          Jun-2017|               499.0|                0.0|                       0.0|                       null|        1.0|      Individual|            null|     null|                     null|           0.0|         0.0|    23330.0|       null|       null|       null|       null|              null|        null|   null|       null|       null|      null|    null|         11900.0|  null|       null|        null|                11.0|     1944.0|        3177.0|   44.3|                     0.0|        0.0|              24.0|                39.0|                  1.0|           1.0|     0.0|                 2.0|                    null|                  2.0|                          null|                  0.0|           5.0|            9.0|        5.0|      5.0|      4.0|         10.0|         11.0|                9.0|    12.0|             0.0|         0.0|               0.0|               5.0|         100.0|             0.0|                 0.0|      1.0|        33247.0|          23330.0|        5700.0|                   21347.0|           null|                  null|                   null|                    null|                  null|            null|            null|              null|               null|                 null|                            null|                              null|                               null|            N|         null|           null|           null|         null|           null|               null|             null|                   null|           null|        null|                null|                                      null|                          null|                        null|               Cash|                   N|                     null|             null|           null|             null|                 null|           null|\n",
       "|40361493|     null|   2925.0|     2925.0|         2925.0| 36 months|   16.49|     103.55|    D|       D3|     Case Management|   6 years|          RENT|   33000.0|       Not Verified|Feb-2015| Fully Paid|         n|https://lendingcl...|null|       credit_card|Credit card refin...|   070xx|        NJ|11.78|        0.0|        Oct-1996|         665.0|          669.0|           2.0|                  38.0|                  null|    10.0|    0.0|   6712.0|      69.9|     19.0|                  f|      0.0|          0.0|3724.8115866709004|        3724.81|         2925.0|       799.81|               0.0|       0.0|                    0.0|    Feb-2018|         103.24|        null|          Jan-2018|               604.0|              600.0|                       0.0|                       61.0|        1.0|      Individual|            null|     null|                     null|           0.0|         0.0|    33145.0|       null|       null|       null|       null|              null|        null|   null|       null|       null|      null|    null|          9600.0|  null|       null|        null|                 4.0|     3315.0|          66.0|   97.6|                     0.0|        0.0|             219.0|               124.0|                  4.0|           4.0|     0.0|                 4.0|                    38.0|                  4.0|                          38.0|                  1.0|           2.0|            9.0|        2.0|      4.0|      4.0|          9.0|         14.0|                9.0|    10.0|             0.0|         0.0|               0.0|               3.0|          93.7|           100.0|                 0.0|      0.0|        34825.0|          33145.0|        2800.0|                   25225.0|           null|                  null|                   null|                    null|                  null|            null|            null|              null|               null|                 null|                            null|                              null|                               null|            N|         null|           null|           null|         null|           null|               null|             null|                   null|           null|        null|                null|                                      null|                          null|                        null|               Cash|                   N|                     null|             null|           null|             null|                 null|           null|\n",
       "|38615026|     null|  12300.0|    12300.0|        12300.0| 36 months|    7.49|     382.55|    A|       A4|senior financial ...|  < 1 year|          RENT|   80000.0|    Source Verified|Feb-2015| Fully Paid|         n|https://lendingcl...|null|       credit_card|Credit card refin...|   079xx|        NJ|15.78|        1.0|        Aug-2006|         685.0|          689.0|           0.0|                  19.0|                  null|    19.0|    0.0|  20604.0|      51.4|     31.0|                  w|      0.0|          0.0|   13766.679831403|       13766.68|        12300.0|      1466.68|               0.0|       0.0|                    0.0|    Feb-2018|         382.55|        null|          Feb-2018|               729.0|              725.0|                       0.0|                       null|        1.0|      Individual|            null|     null|                     null|           0.0|         0.0|    45971.0|       null|       null|       null|       null|              null|        null|   null|       null|       null|      null|    null|         40100.0|  null|       null|        null|                 7.0|     2420.0|       14696.0|   58.4|                     0.0|        0.0|             101.0|               101.0|                  4.0|           4.0|     0.0|                 6.0|                    19.0|                 12.0|                          19.0|                  0.0|           5.0|            5.0|        8.0|     10.0|     13.0|         13.0|         18.0|                5.0|    19.0|             0.0|         0.0|               0.0|               3.0|          96.8|            37.5|                 0.0|      0.0|        81859.0|          45971.0|       35300.0|                   41759.0|           null|                  null|                   null|                    null|                  null|            null|            null|              null|               null|                 null|                            null|                              null|                               null|            N|         null|           null|           null|         null|           null|               null|             null|                   null|           null|        null|                null|                                      null|                          null|                        null|               Cash|                   N|                     null|             null|           null|             null|                 null|           null|\n",
       "|40451319|     null|  12000.0|    12000.0|        12000.0| 36 months|   10.49|     389.98|    B|       B3|Senior Analyst H....|   6 years|          RENT|   30000.0|    Source Verified|Feb-2015| Fully Paid|         n|https://lendingcl...|null|debt_consolidation|  Debt consolidation|   328xx|        FL| 19.4|        0.0|        Dec-1999|         660.0|          664.0|           0.0|                  null|                  71.0|     9.0|    1.0|  11956.0|      49.4|     22.0|                  w|      0.0|          0.0|  13967.3367689574|       13967.34|        12000.0|      1967.34|               0.0|       0.0|                    0.0|    Aug-2017|        2664.91|        null|          Mar-2019|               749.0|              745.0|                       0.0|                       null|        1.0|      Individual|            null|     null|                     null|           0.0|       102.0|    15054.0|       null|       null|       null|       null|              null|        null|   null|       null|       null|      null|    null|         24200.0|  null|       null|        null|                 4.0|     1673.0|        2031.0|   75.2|                     0.0|        0.0|             175.0|               181.0|                  7.0|           7.0|     0.0|                 7.0|                    null|                  7.0|                          null|                  0.0|           4.0|            7.0|        4.0|      9.0|      8.0|          7.0|         14.0|                7.0|     9.0|             0.0|         0.0|               0.0|               1.0|         100.0|            50.0|                 1.0|      0.0|        30825.0|          15054.0|        8200.0|                    6625.0|           null|                  null|                   null|                    null|                  null|            null|            null|              null|               null|                 null|                            null|                              null|                               null|            N|         null|           null|           null|         null|           null|               null|             null|                   null|           null|        null|                null|                                      null|                          null|                        null|               Cash|                   N|                     null|             null|           null|             null|                 null|           null|\n",
       "+--------+---------+---------+-----------+---------------+----------+--------+-----------+-----+---------+--------------------+----------+--------------+----------+-------------------+--------+-----------+----------+--------------------+----+------------------+--------------------+--------+----------+-----+-----------+----------------+--------------+---------------+--------------+----------------------+----------------------+--------+-------+---------+----------+---------+-------------------+---------+-------------+------------------+---------------+---------------+-------------+------------------+----------+-----------------------+------------+---------------+------------+------------------+--------------------+-------------------+--------------------------+---------------------------+-----------+----------------+----------------+---------+-------------------------+--------------+------------+-----------+-----------+-----------+-----------+-----------+------------------+------------+-------+-----------+-----------+----------+--------+----------------+------+-----------+------------+--------------------+-----------+--------------+-------+------------------------+-----------+------------------+--------------------+---------------------+--------------+--------+--------------------+------------------------+---------------------+------------------------------+---------------------+--------------+---------------+-----------+---------+---------+-------------+-------------+-------------------+--------+----------------+------------+------------------+------------------+--------------+----------------+--------------------+---------+---------------+-----------------+--------------+--------------------------+---------------+----------------------+-----------------------+------------------------+----------------------+----------------+----------------+------------------+-------------------+---------------------+--------------------------------+----------------------------------+-----------------------------------+-------------+-------------+---------------+---------------+-------------+---------------+-------------------+-----------------+-----------------------+---------------+------------+--------------------+------------------------------------------+------------------------------+----------------------------+-------------------+--------------------+-------------------------+-----------------+---------------+-----------------+---------------------+---------------+"
      ]
     },
     "execution_count": 4,
     "metadata": {},
     "output_type": "execute_result"
    }
   ],
   "source": [
    "spark.sql(\"Select * FROM lending_club_raw_data LIMIT 5\")\n"
   ]
  },
  {
   "cell_type": "code",
   "execution_count": 5,
   "id": "bba0e99c",
   "metadata": {},
   "outputs": [],
   "source": [
    "from pyspark.sql.functions import sha2, concat_ws"
   ]
  },
  {
   "cell_type": "code",
   "execution_count": 6,
   "id": "bbaee951",
   "metadata": {},
   "outputs": [],
   "source": [
    "#I decided to do is concatenate emp_title, emp_length, home_ownership, annual_inc, zip_code, addr_state, grade, sub_grade, and verification_status. After concatenation, pass this to a hash function in order to geenerate a unique value which will eventually be used as member_id later on."
   ]
  },
  {
   "cell_type": "code",
   "execution_count": 7,
   "id": "4cf9f278",
   "metadata": {},
   "outputs": [],
   "source": [
    "new_df = raw_df.withColumn(\"member_id_sha2\", sha2(concat_ws(\"||\", *[\"emp_title\", \"emp_length\", \"home_ownership\", \"annual_inc\", \"zip_code\", \"addr_state\", \"grade\", \"sub_grade\",\"verification_status\"]), 256))"
   ]
  },
  {
   "cell_type": "code",
   "execution_count": 8,
   "id": "0b214e3f",
   "metadata": {},
   "outputs": [],
   "source": [
    "new_df.createOrReplaceTempView(\"lending_club_raw_data_new\")"
   ]
  },
  {
   "cell_type": "code",
   "execution_count": 9,
   "id": "b91c269b",
   "metadata": {},
   "outputs": [
    {
     "data": {
      "text/html": [
       "<table border='1'>\n",
       "<tr><th>count(1)</th></tr>\n",
       "<tr><td>2260701</td></tr>\n",
       "</table>\n"
      ],
      "text/plain": [
       "+--------+\n",
       "|count(1)|\n",
       "+--------+\n",
       "| 2260701|\n",
       "+--------+"
      ]
     },
     "execution_count": 9,
     "metadata": {},
     "output_type": "execute_result"
    }
   ],
   "source": [
    "spark.sql(\"SELECT COUNT(*) FROM lending_club_raw_data_new\")"
   ]
  },
  {
   "cell_type": "code",
   "execution_count": 10,
   "id": "7c166173",
   "metadata": {},
   "outputs": [
    {
     "data": {
      "text/html": [
       "<table border='1'>\n",
       "<tr><th>count(DISTINCT member_id_sha2)</th></tr>\n",
       "<tr><td>2257384</td></tr>\n",
       "</table>\n"
      ],
      "text/plain": [
       "+------------------------------+\n",
       "|count(DISTINCT member_id_sha2)|\n",
       "+------------------------------+\n",
       "|                       2257384|\n",
       "+------------------------------+"
      ]
     },
     "execution_count": 10,
     "metadata": {},
     "output_type": "execute_result"
    }
   ],
   "source": [
    "spark.sql(\"SELECT COUNT(DISTINCT(member_id_sha2)) FROM lending_club_raw_data_new\")"
   ]
  },
  {
   "cell_type": "code",
   "execution_count": 11,
   "id": "c7f08fdf",
   "metadata": {},
   "outputs": [
    {
     "data": {
      "text/html": [
       "<table border='1'>\n",
       "<tr><th>member_id_sha2</th><th>total_count</th></tr>\n",
       "<tr><td>e3b0c44298fc1c149...</td><td>33</td></tr>\n",
       "<tr><td>e4c167053d5418230...</td><td>5</td></tr>\n",
       "<tr><td>3f87585a20f702838...</td><td>4</td></tr>\n",
       "<tr><td>ad8e5d384dae17e06...</td><td>4</td></tr>\n",
       "<tr><td>76b577467eda5bdbc...</td><td>4</td></tr>\n",
       "<tr><td>f54295a60946dedad...</td><td>3</td></tr>\n",
       "<tr><td>059d401bb603d9a80...</td><td>3</td></tr>\n",
       "<tr><td>d9ce4046daf599732...</td><td>3</td></tr>\n",
       "<tr><td>3ae415acd6bbfaac1...</td><td>3</td></tr>\n",
       "<tr><td>e7d8d16928817ec8f...</td><td>3</td></tr>\n",
       "<tr><td>4ab6205de571ccb7b...</td><td>3</td></tr>\n",
       "<tr><td>035bf3d8288d803bd...</td><td>3</td></tr>\n",
       "<tr><td>066ddaa64bee66dff...</td><td>3</td></tr>\n",
       "<tr><td>291ca1b09ef11ca3e...</td><td>3</td></tr>\n",
       "<tr><td>819453be77718d747...</td><td>3</td></tr>\n",
       "<tr><td>498bb6b1f0099cb47...</td><td>3</td></tr>\n",
       "<tr><td>a2356725aa9da92c6...</td><td>3</td></tr>\n",
       "<tr><td>5d52e7773cb0efff3...</td><td>3</td></tr>\n",
       "<tr><td>d3731bad3e6a82515...</td><td>3</td></tr>\n",
       "<tr><td>c92062bb371842b3d...</td><td>3</td></tr>\n",
       "</table>\n",
       "only showing top 20 rows\n"
      ],
      "text/plain": [
       "+--------------------+-----------+\n",
       "|      member_id_sha2|total_count|\n",
       "+--------------------+-----------+\n",
       "|e3b0c44298fc1c149...|         33|\n",
       "|e4c167053d5418230...|          5|\n",
       "|3f87585a20f702838...|          4|\n",
       "|76b577467eda5bdbc...|          4|\n",
       "|ad8e5d384dae17e06...|          4|\n",
       "|c92062bb371842b3d...|          3|\n",
       "|22593a1870543b2db...|          3|\n",
       "|5d52e7773cb0efff3...|          3|\n",
       "|066ddaa64bee66dff...|          3|\n",
       "|a2356725aa9da92c6...|          3|\n",
       "|d3731bad3e6a82515...|          3|\n",
       "|bf3d06b33c49a9375...|          3|\n",
       "|3ae415acd6bbfaac1...|          3|\n",
       "|f54295a60946dedad...|          3|\n",
       "|291ca1b09ef11ca3e...|          3|\n",
       "|498bb6b1f0099cb47...|          3|\n",
       "|819453be77718d747...|          3|\n",
       "|d9ce4046daf599732...|          3|\n",
       "|f9fc581aae696e0bd...|          3|\n",
       "|53789bea7edc660ed...|          3|\n",
       "+--------------------+-----------+\n",
       "only showing top 20 rows"
      ]
     },
     "execution_count": 11,
     "metadata": {},
     "output_type": "execute_result"
    }
   ],
   "source": [
    "spark.sql(\"\"\"SELECT \n",
    "    member_id_sha2, \n",
    "    COUNT(*) AS total_count\n",
    "FROM lending_club_raw_data_new\n",
    "GROUP BY member_id_sha2\n",
    "HAVING total_count > 1\n",
    "ORDER BY total_count DESC\"\"\")"
   ]
  },
  {
   "cell_type": "code",
   "execution_count": 13,
   "id": "3c97dc14",
   "metadata": {},
   "outputs": [],
   "source": [
    "spark.sql(\"\"\" SELECT\n",
    "    member_id_sha2 as member_id,\n",
    "    emp_title,\n",
    "    emp_length,\n",
    "    home_ownership,\n",
    "    annual_inc,\n",
    "    addr_state,\n",
    "    zip_code,\n",
    "    'USA' as country,\n",
    "    grade,\n",
    "    sub_grade,\n",
    "    verification_status,\n",
    "    tot_hi_cred_lim,\n",
    "    application_type,\n",
    "    annual_inc_joint,\n",
    "    verification_status_joint\n",
    "FROM lending_club_raw_data_new\n",
    "\"\"\").repartition(1).write\\\n",
    "    .option(\"header\", True)\\\n",
    "    .format(\"csv\")\\\n",
    "    .mode(\"overwrite\")\\\n",
    "    .option(\"path\", \"/user/itv015703/lendingclubproject/raw/customers_data_csv\")\\\n",
    "    .save()"
   ]
  },
  {
   "cell_type": "code",
   "execution_count": 15,
   "id": "61625040",
   "metadata": {},
   "outputs": [],
   "source": [
    "customers_df = spark.read\\\n",
    ".format(\"csv\")\\\n",
    ".option(\"header\", True)\\\n",
    ".option(\"inferSchema\", True)\\\n",
    ".load(\"/user/itv015703/lendingclubproject/raw/customers_data_csv\")"
   ]
  },
  {
   "cell_type": "code",
   "execution_count": 16,
   "id": "90705c02",
   "metadata": {},
   "outputs": [
    {
     "data": {
      "text/html": [
       "<table border='1'>\n",
       "<tr><th>member_id</th><th>emp_title</th><th>emp_length</th><th>home_ownership</th><th>annual_inc</th><th>addr_state</th><th>zip_code</th><th>country</th><th>grade</th><th>sub_grade</th><th>verification_status</th><th>tot_hi_cred_lim</th><th>application_type</th><th>annual_inc_joint</th><th>verification_status_joint</th></tr>\n",
       "<tr><td>6d5091b3fcaaeb4ea...</td><td>leadman</td><td>10+ years</td><td>MORTGAGE</td><td>55000.0</td><td>PA</td><td>190xx</td><td>USA</td><td>C</td><td>C4</td><td>Not Verified</td><td>178050.0</td><td>Individual</td><td>null</td><td>null</td></tr>\n",
       "<tr><td>b5e7938b0a2da4cea...</td><td>Engineer</td><td>10+ years</td><td>MORTGAGE</td><td>65000.0</td><td>SD</td><td>577xx</td><td>USA</td><td>C</td><td>C1</td><td>Not Verified</td><td>314017.0</td><td>Individual</td><td>null</td><td>null</td></tr>\n",
       "<tr><td>91060b858433e8a61...</td><td>truck driver</td><td>10+ years</td><td>MORTGAGE</td><td>63000.0</td><td>IL</td><td>605xx</td><td>USA</td><td>B</td><td>B4</td><td>Not Verified</td><td>218418.0</td><td>Joint App</td><td>71000.0</td><td>Not Verified</td></tr>\n",
       "<tr><td>cab1fa9f533688b0a...</td><td>Information Syste...</td><td>10+ years</td><td>MORTGAGE</td><td>110000.0</td><td>NJ</td><td>076xx</td><td>USA</td><td>C</td><td>C5</td><td>Source Verified</td><td>381215.0</td><td>Individual</td><td>null</td><td>null</td></tr>\n",
       "<tr><td>f74e401c1ab0adf78...</td><td>Contract Specialist</td><td>3 years</td><td>MORTGAGE</td><td>104433.0</td><td>PA</td><td>174xx</td><td>USA</td><td>F</td><td>F1</td><td>Source Verified</td><td>439570.0</td><td>Individual</td><td>null</td><td>null</td></tr>\n",
       "<tr><td>8aef4bb29d609d8d6...</td><td>Veterinary Tecnician</td><td>4 years</td><td>RENT</td><td>34000.0</td><td>GA</td><td>300xx</td><td>USA</td><td>C</td><td>C3</td><td>Source Verified</td><td>16900.0</td><td>Individual</td><td>null</td><td>null</td></tr>\n",
       "<tr><td>538b4653da3b1e814...</td><td>Vice President of...</td><td>10+ years</td><td>MORTGAGE</td><td>180000.0</td><td>MN</td><td>550xx</td><td>USA</td><td>B</td><td>B2</td><td>Not Verified</td><td>388852.0</td><td>Individual</td><td>null</td><td>null</td></tr>\n",
       "<tr><td>b24d55f21390533c5...</td><td>road driver</td><td>10+ years</td><td>MORTGAGE</td><td>85000.0</td><td>SC</td><td>293xx</td><td>USA</td><td>B</td><td>B1</td><td>Not Verified</td><td>193390.0</td><td>Individual</td><td>null</td><td>null</td></tr>\n",
       "<tr><td>1035c5401b0ca76d0...</td><td>SERVICE MANAGER</td><td>6 years</td><td>RENT</td><td>85000.0</td><td>PA</td><td>160xx</td><td>USA</td><td>A</td><td>A2</td><td>Not Verified</td><td>61099.0</td><td>Individual</td><td>null</td><td>null</td></tr>\n",
       "<tr><td>cb0f1777593e77909...</td><td>Vendor liaison</td><td>10+ years</td><td>MORTGAGE</td><td>42000.0</td><td>RI</td><td>029xx</td><td>USA</td><td>B</td><td>B5</td><td>Not Verified</td><td>256513.0</td><td>Individual</td><td>null</td><td>null</td></tr>\n",
       "<tr><td>a962f4d59caec5fa1...</td><td>Executive Director</td><td>6 years</td><td>MORTGAGE</td><td>95000.0</td><td>SC</td><td>290xx</td><td>USA</td><td>C</td><td>C2</td><td>Not Verified</td><td>436841.0</td><td>Individual</td><td>null</td><td>null</td></tr>\n",
       "<tr><td>e7592ab57b3afd9f1...</td><td>Senior Structural...</td><td>1 year</td><td>MORTGAGE</td><td>70000.0</td><td>TX</td><td>786xx</td><td>USA</td><td>C</td><td>C2</td><td>Not Verified</td><td>309638.0</td><td>Individual</td><td>null</td><td>null</td></tr>\n",
       "<tr><td>603afa9d1be879b7b...</td><td>Logistics Manager</td><td>3 years</td><td>MORTGAGE</td><td>64000.0</td><td>NC</td><td>275xx</td><td>USA</td><td>C</td><td>C2</td><td>Not Verified</td><td>372109.0</td><td>Individual</td><td>null</td><td>null</td></tr>\n",
       "<tr><td>9fe2d59ddf2a4f37e...</td><td>Software Manager</td><td>7 years</td><td>RENT</td><td>150000.0</td><td>CA</td><td>916xx</td><td>USA</td><td>E</td><td>E2</td><td>Not Verified</td><td>65819.0</td><td>Individual</td><td>null</td><td>null</td></tr>\n",
       "<tr><td>23857480ccf555ce4...</td><td>Senior Manager</td><td>10+ years</td><td>MORTGAGE</td><td>92000.0</td><td>NC</td><td>275xx</td><td>USA</td><td>A</td><td>A2</td><td>Not Verified</td><td>304003.0</td><td>Individual</td><td>null</td><td>null</td></tr>\n",
       "<tr><td>7c69d5f36fdabf6e1...</td><td>tech</td><td>8 years</td><td>MORTGAGE</td><td>60000.0</td><td>SC</td><td>299xx</td><td>USA</td><td>A</td><td>A4</td><td>Not Verified</td><td>88635.0</td><td>Individual</td><td>null</td><td>null</td></tr>\n",
       "<tr><td>08bf9e080503b0113...</td><td>Sales Manager</td><td>10+ years</td><td>MORTGAGE</td><td>109000.0</td><td>VA</td><td>226xx</td><td>USA</td><td>A</td><td>A4</td><td>Not Verified</td><td>373572.0</td><td>Individual</td><td>null</td><td>null</td></tr>\n",
       "<tr><td>1cafb05aa6c894c30...</td><td>GS-11</td><td>10+ years</td><td>MORTGAGE</td><td>112000.0</td><td>AZ</td><td>856xx</td><td>USA</td><td>C</td><td>C1</td><td>Not Verified</td><td>309710.0</td><td>Individual</td><td>null</td><td>null</td></tr>\n",
       "<tr><td>f2c4010f700d8c9c4...</td><td>Teacher</td><td>5 years</td><td>RENT</td><td>64000.0</td><td>NY</td><td>117xx</td><td>USA</td><td>B</td><td>B1</td><td>Not Verified</td><td>93962.0</td><td>Individual</td><td>null</td><td>null</td></tr>\n",
       "<tr><td>05ad4aed7c393035e...</td><td>Program Coordinator</td><td>8 years</td><td>RENT</td><td>55000.0</td><td>IN</td><td>462xx</td><td>USA</td><td>E</td><td>E3</td><td>Verified</td><td>38998.0</td><td>Individual</td><td>null</td><td>null</td></tr>\n",
       "</table>\n",
       "only showing top 20 rows\n"
      ],
      "text/plain": [
       "+--------------------+--------------------+----------+--------------+----------+----------+--------+-------+-----+---------+-------------------+---------------+----------------+----------------+-------------------------+\n",
       "|           member_id|           emp_title|emp_length|home_ownership|annual_inc|addr_state|zip_code|country|grade|sub_grade|verification_status|tot_hi_cred_lim|application_type|annual_inc_joint|verification_status_joint|\n",
       "+--------------------+--------------------+----------+--------------+----------+----------+--------+-------+-----+---------+-------------------+---------------+----------------+----------------+-------------------------+\n",
       "|6d5091b3fcaaeb4ea...|             leadman| 10+ years|      MORTGAGE|   55000.0|        PA|   190xx|    USA|    C|       C4|       Not Verified|       178050.0|      Individual|            null|                     null|\n",
       "|b5e7938b0a2da4cea...|            Engineer| 10+ years|      MORTGAGE|   65000.0|        SD|   577xx|    USA|    C|       C1|       Not Verified|       314017.0|      Individual|            null|                     null|\n",
       "|91060b858433e8a61...|        truck driver| 10+ years|      MORTGAGE|   63000.0|        IL|   605xx|    USA|    B|       B4|       Not Verified|       218418.0|       Joint App|         71000.0|             Not Verified|\n",
       "|cab1fa9f533688b0a...|Information Syste...| 10+ years|      MORTGAGE|  110000.0|        NJ|   076xx|    USA|    C|       C5|    Source Verified|       381215.0|      Individual|            null|                     null|\n",
       "|f74e401c1ab0adf78...| Contract Specialist|   3 years|      MORTGAGE|  104433.0|        PA|   174xx|    USA|    F|       F1|    Source Verified|       439570.0|      Individual|            null|                     null|\n",
       "|8aef4bb29d609d8d6...|Veterinary Tecnician|   4 years|          RENT|   34000.0|        GA|   300xx|    USA|    C|       C3|    Source Verified|        16900.0|      Individual|            null|                     null|\n",
       "|538b4653da3b1e814...|Vice President of...| 10+ years|      MORTGAGE|  180000.0|        MN|   550xx|    USA|    B|       B2|       Not Verified|       388852.0|      Individual|            null|                     null|\n",
       "|b24d55f21390533c5...|         road driver| 10+ years|      MORTGAGE|   85000.0|        SC|   293xx|    USA|    B|       B1|       Not Verified|       193390.0|      Individual|            null|                     null|\n",
       "|1035c5401b0ca76d0...|     SERVICE MANAGER|   6 years|          RENT|   85000.0|        PA|   160xx|    USA|    A|       A2|       Not Verified|        61099.0|      Individual|            null|                     null|\n",
       "|cb0f1777593e77909...|      Vendor liaison| 10+ years|      MORTGAGE|   42000.0|        RI|   029xx|    USA|    B|       B5|       Not Verified|       256513.0|      Individual|            null|                     null|\n",
       "|a962f4d59caec5fa1...|  Executive Director|   6 years|      MORTGAGE|   95000.0|        SC|   290xx|    USA|    C|       C2|       Not Verified|       436841.0|      Individual|            null|                     null|\n",
       "|e7592ab57b3afd9f1...|Senior Structural...|    1 year|      MORTGAGE|   70000.0|        TX|   786xx|    USA|    C|       C2|       Not Verified|       309638.0|      Individual|            null|                     null|\n",
       "|603afa9d1be879b7b...|   Logistics Manager|   3 years|      MORTGAGE|   64000.0|        NC|   275xx|    USA|    C|       C2|       Not Verified|       372109.0|      Individual|            null|                     null|\n",
       "|9fe2d59ddf2a4f37e...|    Software Manager|   7 years|          RENT|  150000.0|        CA|   916xx|    USA|    E|       E2|       Not Verified|        65819.0|      Individual|            null|                     null|\n",
       "|23857480ccf555ce4...|      Senior Manager| 10+ years|      MORTGAGE|   92000.0|        NC|   275xx|    USA|    A|       A2|       Not Verified|       304003.0|      Individual|            null|                     null|\n",
       "|7c69d5f36fdabf6e1...|                tech|   8 years|      MORTGAGE|   60000.0|        SC|   299xx|    USA|    A|       A4|       Not Verified|        88635.0|      Individual|            null|                     null|\n",
       "|08bf9e080503b0113...|       Sales Manager| 10+ years|      MORTGAGE|  109000.0|        VA|   226xx|    USA|    A|       A4|       Not Verified|       373572.0|      Individual|            null|                     null|\n",
       "|1cafb05aa6c894c30...|               GS-11| 10+ years|      MORTGAGE|  112000.0|        AZ|   856xx|    USA|    C|       C1|       Not Verified|       309710.0|      Individual|            null|                     null|\n",
       "|f2c4010f700d8c9c4...|             Teacher|   5 years|          RENT|   64000.0|        NY|   117xx|    USA|    B|       B1|       Not Verified|        93962.0|      Individual|            null|                     null|\n",
       "|05ad4aed7c393035e...| Program Coordinator|   8 years|          RENT|   55000.0|        IN|   462xx|    USA|    E|       E3|           Verified|        38998.0|      Individual|            null|                     null|\n",
       "+--------------------+--------------------+----------+--------------+----------+----------+--------+-------+-----+---------+-------------------+---------------+----------------+----------------+-------------------------+\n",
       "only showing top 20 rows"
      ]
     },
     "execution_count": 16,
     "metadata": {},
     "output_type": "execute_result"
    }
   ],
   "source": [
    "customers_df"
   ]
  },
  {
   "cell_type": "code",
   "execution_count": 17,
   "id": "3c325923",
   "metadata": {},
   "outputs": [],
   "source": [
    "spark.sql(\"\"\" SELECT\n",
    "    id as loan_id,\n",
    "    member_id_sha2 as member_id,\n",
    "    loan_amnt,\n",
    "    funded_amnt,\n",
    "    term,\n",
    "    int_rate,\n",
    "    installment,\n",
    "    issue_d,\n",
    "    loan_status,\n",
    "    purpose,\n",
    "    title\n",
    "FROM lending_club_raw_data_new\n",
    "\"\"\").repartition(1).write\\\n",
    "    .option(\"header\", True)\\\n",
    "    .format(\"csv\")\\\n",
    "    .mode(\"overwrite\")\\\n",
    "    .option(\"path\", \"/user/itv015703/lendingclubproject/raw/loans_data_csv\")\\\n",
    "    .save()"
   ]
  },
  {
   "cell_type": "code",
   "execution_count": 19,
   "id": "abd5bb8f",
   "metadata": {},
   "outputs": [],
   "source": [
    "loans_df = spark.read\\\n",
    ".format(\"csv\")\\\n",
    ".option(\"header\", True)\\\n",
    ".option(\"inferSchema\", True)\\\n",
    ".load(\"/user/itv015703/lendingclubproject/raw/loans_data_csv\")"
   ]
  },
  {
   "cell_type": "code",
   "execution_count": 20,
   "id": "db4f1763",
   "metadata": {},
   "outputs": [
    {
     "data": {
      "text/html": [
       "<table border='1'>\n",
       "<tr><th>loan_id</th><th>member_id</th><th>loan_amnt</th><th>funded_amnt</th><th>term</th><th>int_rate</th><th>installment</th><th>issue_d</th><th>loan_status</th><th>purpose</th><th>title</th></tr>\n",
       "<tr><td>94761152</td><td>1ae08eb0c074de6fb...</td><td>26975.0</td><td>26975.0</td><td>60 months</td><td>30.84</td><td>886.71</td><td>Dec-2016</td><td>Fully Paid</td><td>debt_consolidation</td><td>Debt consolidation</td></tr>\n",
       "<tr><td>94093520</td><td>82ae44edab97e1c95...</td><td>28000.0</td><td>28000.0</td><td>60 months</td><td>7.99</td><td>567.61</td><td>Dec-2016</td><td>Current</td><td>credit_card</td><td>Credit card refin...</td></tr>\n",
       "<tr><td>95126205</td><td>7a92464a7eef5fa98...</td><td>12000.0</td><td>12000.0</td><td>36 months</td><td>12.74</td><td>402.83</td><td>Dec-2016</td><td>Current</td><td>debt_consolidation</td><td>Debt consolidation</td></tr>\n",
       "<tr><td>95217505</td><td>6fc2a824c46b88831...</td><td>9600.0</td><td>9600.0</td><td>36 months</td><td>13.99</td><td>328.06</td><td>Dec-2016</td><td>Late (31-120 days)</td><td>debt_consolidation</td><td>Debt consolidation</td></tr>\n",
       "<tr><td>95096173</td><td>d72283a720a1bb13c...</td><td>2700.0</td><td>2700.0</td><td>36 months</td><td>8.24</td><td>84.91</td><td>Dec-2016</td><td>Fully Paid</td><td>credit_card</td><td>Credit card refin...</td></tr>\n",
       "<tr><td>95148408</td><td>0b0616b87c7476b53...</td><td>22400.0</td><td>22400.0</td><td>36 months</td><td>7.24</td><td>694.11</td><td>Dec-2016</td><td>Fully Paid</td><td>debt_consolidation</td><td>Debt consolidation</td></tr>\n",
       "<tr><td>93793227</td><td>b89d45166d32ba422...</td><td>12000.0</td><td>12000.0</td><td>36 months</td><td>15.99</td><td>421.83</td><td>Dec-2016</td><td>Fully Paid</td><td>credit_card</td><td>Credit card refin...</td></tr>\n",
       "<tr><td>94566736</td><td>4f170572ef915ba17...</td><td>35000.0</td><td>35000.0</td><td>60 months</td><td>13.99</td><td>814.21</td><td>Dec-2016</td><td>Current</td><td>debt_consolidation</td><td>Debt consolidation</td></tr>\n",
       "<tr><td>95256545</td><td>30ca62c00e346e480...</td><td>5600.0</td><td>5600.0</td><td>36 months</td><td>13.99</td><td>191.37</td><td>Dec-2016</td><td>Current</td><td>other</td><td>Other</td></tr>\n",
       "<tr><td>95272111</td><td>64f06e51bc16579dd...</td><td>5000.0</td><td>5000.0</td><td>36 months</td><td>7.99</td><td>156.66</td><td>Dec-2016</td><td>Fully Paid</td><td>medical</td><td>Medical expenses</td></tr>\n",
       "<tr><td>94991209</td><td>ad7fbe48087127d3c...</td><td>4800.0</td><td>4800.0</td><td>36 months</td><td>11.49</td><td>158.27</td><td>Dec-2016</td><td>Charged Off</td><td>moving</td><td>Moving and reloca...</td></tr>\n",
       "<tr><td>95138317</td><td>c63ea8bfa74eb9fee...</td><td>8000.0</td><td>8000.0</td><td>36 months</td><td>11.49</td><td>263.78</td><td>Dec-2016</td><td>Current</td><td>debt_consolidation</td><td>Debt consolidation</td></tr>\n",
       "<tr><td>95258184</td><td>6261c9ac4c73d793a...</td><td>35000.0</td><td>35000.0</td><td>36 months</td><td>11.49</td><td>1154.0</td><td>Dec-2016</td><td>Current</td><td>debt_consolidation</td><td>Debt consolidation</td></tr>\n",
       "<tr><td>94442821</td><td>77ddfeb1dc3604ae8...</td><td>8000.0</td><td>8000.0</td><td>36 months</td><td>11.49</td><td>263.78</td><td>Dec-2016</td><td>Current</td><td>credit_card</td><td>Credit card refin...</td></tr>\n",
       "<tr><td>95026238</td><td>87817073693780dc9...</td><td>2000.0</td><td>2000.0</td><td>36 months</td><td>11.49</td><td>65.95</td><td>Dec-2016</td><td>Fully Paid</td><td>major_purchase</td><td>Major purchase</td></tr>\n",
       "<tr><td>94071755</td><td>f9fbcdf22f2b725da...</td><td>4000.0</td><td>4000.0</td><td>36 months</td><td>11.44</td><td>131.79</td><td>Dec-2016</td><td>Current</td><td>debt_consolidation</td><td>Debt consolidation</td></tr>\n",
       "<tr><td>94626730</td><td>63c83fce390eeff35...</td><td>11650.0</td><td>11650.0</td><td>36 months</td><td>21.49</td><td>441.86</td><td>Dec-2016</td><td>Charged Off</td><td>debt_consolidation</td><td>Debt consolidation</td></tr>\n",
       "<tr><td>95196463</td><td>666aa84393abf271d...</td><td>16000.0</td><td>16000.0</td><td>60 months</td><td>12.74</td><td>361.93</td><td>Dec-2016</td><td>Fully Paid</td><td>credit_card</td><td>Credit card refin...</td></tr>\n",
       "<tr><td>95056184</td><td>d996c079558e0e2e6...</td><td>9000.0</td><td>9000.0</td><td>36 months</td><td>11.44</td><td>296.53</td><td>Dec-2016</td><td>Fully Paid</td><td>debt_consolidation</td><td>Debt consolidation</td></tr>\n",
       "<tr><td>95186653</td><td>a1a6c2886fb3048c4...</td><td>6500.0</td><td>6500.0</td><td>36 months</td><td>8.24</td><td>204.41</td><td>Dec-2016</td><td>Current</td><td>debt_consolidation</td><td>Debt consolidation</td></tr>\n",
       "</table>\n",
       "only showing top 20 rows\n"
      ],
      "text/plain": [
       "+--------+--------------------+---------+-----------+---------+--------+-----------+--------+------------------+------------------+--------------------+\n",
       "| loan_id|           member_id|loan_amnt|funded_amnt|     term|int_rate|installment| issue_d|       loan_status|           purpose|               title|\n",
       "+--------+--------------------+---------+-----------+---------+--------+-----------+--------+------------------+------------------+--------------------+\n",
       "|94761152|1ae08eb0c074de6fb...|  26975.0|    26975.0|60 months|   30.84|     886.71|Dec-2016|        Fully Paid|debt_consolidation|  Debt consolidation|\n",
       "|94093520|82ae44edab97e1c95...|  28000.0|    28000.0|60 months|    7.99|     567.61|Dec-2016|           Current|       credit_card|Credit card refin...|\n",
       "|95126205|7a92464a7eef5fa98...|  12000.0|    12000.0|36 months|   12.74|     402.83|Dec-2016|           Current|debt_consolidation|  Debt consolidation|\n",
       "|95217505|6fc2a824c46b88831...|   9600.0|     9600.0|36 months|   13.99|     328.06|Dec-2016|Late (31-120 days)|debt_consolidation|  Debt consolidation|\n",
       "|95096173|d72283a720a1bb13c...|   2700.0|     2700.0|36 months|    8.24|      84.91|Dec-2016|        Fully Paid|       credit_card|Credit card refin...|\n",
       "|95148408|0b0616b87c7476b53...|  22400.0|    22400.0|36 months|    7.24|     694.11|Dec-2016|        Fully Paid|debt_consolidation|  Debt consolidation|\n",
       "|93793227|b89d45166d32ba422...|  12000.0|    12000.0|36 months|   15.99|     421.83|Dec-2016|        Fully Paid|       credit_card|Credit card refin...|\n",
       "|94566736|4f170572ef915ba17...|  35000.0|    35000.0|60 months|   13.99|     814.21|Dec-2016|           Current|debt_consolidation|  Debt consolidation|\n",
       "|95256545|30ca62c00e346e480...|   5600.0|     5600.0|36 months|   13.99|     191.37|Dec-2016|           Current|             other|               Other|\n",
       "|95272111|64f06e51bc16579dd...|   5000.0|     5000.0|36 months|    7.99|     156.66|Dec-2016|        Fully Paid|           medical|    Medical expenses|\n",
       "|94991209|ad7fbe48087127d3c...|   4800.0|     4800.0|36 months|   11.49|     158.27|Dec-2016|       Charged Off|            moving|Moving and reloca...|\n",
       "|95138317|c63ea8bfa74eb9fee...|   8000.0|     8000.0|36 months|   11.49|     263.78|Dec-2016|           Current|debt_consolidation|  Debt consolidation|\n",
       "|95258184|6261c9ac4c73d793a...|  35000.0|    35000.0|36 months|   11.49|     1154.0|Dec-2016|           Current|debt_consolidation|  Debt consolidation|\n",
       "|94442821|77ddfeb1dc3604ae8...|   8000.0|     8000.0|36 months|   11.49|     263.78|Dec-2016|           Current|       credit_card|Credit card refin...|\n",
       "|95026238|87817073693780dc9...|   2000.0|     2000.0|36 months|   11.49|      65.95|Dec-2016|        Fully Paid|    major_purchase|      Major purchase|\n",
       "|94071755|f9fbcdf22f2b725da...|   4000.0|     4000.0|36 months|   11.44|     131.79|Dec-2016|           Current|debt_consolidation|  Debt consolidation|\n",
       "|94626730|63c83fce390eeff35...|  11650.0|    11650.0|36 months|   21.49|     441.86|Dec-2016|       Charged Off|debt_consolidation|  Debt consolidation|\n",
       "|95196463|666aa84393abf271d...|  16000.0|    16000.0|60 months|   12.74|     361.93|Dec-2016|        Fully Paid|       credit_card|Credit card refin...|\n",
       "|95056184|d996c079558e0e2e6...|   9000.0|     9000.0|36 months|   11.44|     296.53|Dec-2016|        Fully Paid|debt_consolidation|  Debt consolidation|\n",
       "|95186653|a1a6c2886fb3048c4...|   6500.0|     6500.0|36 months|    8.24|     204.41|Dec-2016|           Current|debt_consolidation|  Debt consolidation|\n",
       "+--------+--------------------+---------+-----------+---------+--------+-----------+--------+------------------+------------------+--------------------+\n",
       "only showing top 20 rows"
      ]
     },
     "execution_count": 20,
     "metadata": {},
     "output_type": "execute_result"
    }
   ],
   "source": [
    "loans_df"
   ]
  },
  {
   "cell_type": "code",
   "execution_count": 21,
   "id": "64f700e4",
   "metadata": {},
   "outputs": [],
   "source": [
    "spark.sql(\"\"\" SELECT\n",
    "    id as loan_id,\n",
    "    total_rec_prncp,\n",
    "    total_rec_int,\n",
    "    total_rec_late_fee,\n",
    "    total_pymnt,\n",
    "    last_pymnt_amnt,\n",
    "    last_pymnt_d,\n",
    "    next_pymnt_d\n",
    "FROM lending_club_raw_data_new\n",
    "\"\"\").repartition(1).write\\\n",
    "    .option(\"header\", True)\\\n",
    "    .format(\"csv\")\\\n",
    "    .mode(\"overwrite\")\\\n",
    "    .option(\"path\", \"/user/itv015703/lendingclubproject/raw/loans_repayments_data_csv\")\\\n",
    "    .save()"
   ]
  },
  {
   "cell_type": "code",
   "execution_count": 22,
   "id": "f389742b",
   "metadata": {},
   "outputs": [],
   "source": [
    "loans_repayment_df = spark.read\\\n",
    ".format(\"csv\")\\\n",
    ".option(\"header\", True)\\\n",
    ".option(\"inferSchema\", True)\\\n",
    ".load(\"/user/itv015703/lendingclubproject/raw/loans_repayments_data_csv\")"
   ]
  },
  {
   "cell_type": "code",
   "execution_count": 23,
   "id": "e41059c7",
   "metadata": {},
   "outputs": [
    {
     "data": {
      "text/html": [
       "<table border='1'>\n",
       "<tr><th>loan_id</th><th>total_rec_prncp</th><th>total_rec_int</th><th>total_rec_late_fee</th><th>total_pymnt</th><th>last_pymnt_amnt</th><th>last_pymnt_d</th><th>next_pymnt_d</th></tr>\n",
       "<tr><td>69642551</td><td>3246.03</td><td>990.53</td><td>0.0</td><td>4965.02</td><td>326.35</td><td>Feb-2017</td><td>null</td></tr>\n",
       "<tr><td>69336966</td><td>12000.0</td><td>1080.5</td><td>0.0</td><td>13080.5</td><td>9501.81</td><td>Nov-2016</td><td>null</td></tr>\n",
       "<tr><td>69226186</td><td>28000.0</td><td>3049.36</td><td>0.0</td><td>31049.361806989902</td><td>9306.81</td><td>Mar-2018</td><td>null</td></tr>\n",
       "<tr><td>69084024</td><td>16500.0</td><td>900.32</td><td>0.0</td><td>17400.32</td><td>14085.82</td><td>Aug-2016</td><td>null</td></tr>\n",
       "<tr><td>69422635</td><td>21000.0</td><td>4452.42</td><td>0.0</td><td>25452.4171310098</td><td>12705.78</td><td>Jun-2018</td><td>null</td></tr>\n",
       "<tr><td>69542436</td><td>1220.15</td><td>1252.23</td><td>0.0</td><td>4533.19</td><td>497.94</td><td>Jul-2016</td><td>null</td></tr>\n",
       "<tr><td>69492501</td><td>29000.0</td><td>5405.32</td><td>47.8</td><td>34453.12</td><td>771.08</td><td>Mar-2019</td><td>Apr-2019</td></tr>\n",
       "<tr><td>69522527</td><td>33000.0</td><td>2092.69</td><td>0.0</td><td>35092.69</td><td>65.34</td><td>Jul-2016</td><td>null</td></tr>\n",
       "<tr><td>68781653</td><td>18000.0</td><td>4167.34</td><td>0.0</td><td>22167.3434977632</td><td>13021.32</td><td>Jan-2018</td><td>null</td></tr>\n",
       "<tr><td>69371334</td><td>16000.0</td><td>1140.7</td><td>0.0</td><td>17140.7005770789</td><td>13910.33</td><td>Dec-2016</td><td>null</td></tr>\n",
       "<tr><td>68714098</td><td>15000.0</td><td>1665.34</td><td>0.0</td><td>16665.335109603002</td><td>463.01</td><td>Jan-2019</td><td>null</td></tr>\n",
       "<tr><td>69622505</td><td>14993.49</td><td>15587.45</td><td>0.0</td><td>30580.94</td><td>925.15</td><td>Nov-2018</td><td>Apr-2019</td></tr>\n",
       "<tr><td>69084020</td><td>8191.71</td><td>2319.93</td><td>0.0</td><td>11211.64</td><td>403.64</td><td>Mar-2018</td><td>null</td></tr>\n",
       "<tr><td>69552651</td><td>13221.14</td><td>7957.71</td><td>0.0</td><td>21178.85</td><td>558.32</td><td>Mar-2019</td><td>Apr-2019</td></tr>\n",
       "<tr><td>69084037</td><td>7200.0</td><td>983.7</td><td>0.0</td><td>8183.703417215899</td><td>4153.17</td><td>Jul-2017</td><td>null</td></tr>\n",
       "<tr><td>69612464</td><td>2189.97</td><td>342.22</td><td>0.0</td><td>2532.19</td><td>78.91</td><td>Oct-2018</td><td>null</td></tr>\n",
       "<tr><td>69562380</td><td>11481.73</td><td>10842.62</td><td>0.0</td><td>22324.35</td><td>588.13</td><td>Mar-2019</td><td>Apr-2019</td></tr>\n",
       "<tr><td>69422542</td><td>7200.0</td><td>539.02</td><td>0.0</td><td>7739.0247995761</td><td>194.79</td><td>Jan-2017</td><td>null</td></tr>\n",
       "<tr><td>69652408</td><td>1500.0</td><td>317.81</td><td>0.0</td><td>1817.8054757467999</td><td>246.22</td><td>Apr-2018</td><td>null</td></tr>\n",
       "<tr><td>68756432</td><td>17271.58</td><td>6819.29</td><td>0.0</td><td>24090.87</td><td>634.47</td><td>Mar-2019</td><td>Apr-2019</td></tr>\n",
       "</table>\n",
       "only showing top 20 rows\n"
      ],
      "text/plain": [
       "+--------+---------------+-------------+------------------+------------------+---------------+------------+------------+\n",
       "| loan_id|total_rec_prncp|total_rec_int|total_rec_late_fee|       total_pymnt|last_pymnt_amnt|last_pymnt_d|next_pymnt_d|\n",
       "+--------+---------------+-------------+------------------+------------------+---------------+------------+------------+\n",
       "|69642551|        3246.03|       990.53|               0.0|           4965.02|         326.35|    Feb-2017|        null|\n",
       "|69336966|        12000.0|       1080.5|               0.0|           13080.5|        9501.81|    Nov-2016|        null|\n",
       "|69226186|        28000.0|      3049.36|               0.0|31049.361806989902|        9306.81|    Mar-2018|        null|\n",
       "|69084024|        16500.0|       900.32|               0.0|          17400.32|       14085.82|    Aug-2016|        null|\n",
       "|69422635|        21000.0|      4452.42|               0.0|  25452.4171310098|       12705.78|    Jun-2018|        null|\n",
       "|69542436|        1220.15|      1252.23|               0.0|           4533.19|         497.94|    Jul-2016|        null|\n",
       "|69492501|        29000.0|      5405.32|              47.8|          34453.12|         771.08|    Mar-2019|    Apr-2019|\n",
       "|69522527|        33000.0|      2092.69|               0.0|          35092.69|          65.34|    Jul-2016|        null|\n",
       "|68781653|        18000.0|      4167.34|               0.0|  22167.3434977632|       13021.32|    Jan-2018|        null|\n",
       "|69371334|        16000.0|       1140.7|               0.0|  17140.7005770789|       13910.33|    Dec-2016|        null|\n",
       "|68714098|        15000.0|      1665.34|               0.0|16665.335109603002|         463.01|    Jan-2019|        null|\n",
       "|69622505|       14993.49|     15587.45|               0.0|          30580.94|         925.15|    Nov-2018|    Apr-2019|\n",
       "|69084020|        8191.71|      2319.93|               0.0|          11211.64|         403.64|    Mar-2018|        null|\n",
       "|69552651|       13221.14|      7957.71|               0.0|          21178.85|         558.32|    Mar-2019|    Apr-2019|\n",
       "|69084037|         7200.0|        983.7|               0.0| 8183.703417215899|        4153.17|    Jul-2017|        null|\n",
       "|69612464|        2189.97|       342.22|               0.0|           2532.19|          78.91|    Oct-2018|        null|\n",
       "|69562380|       11481.73|     10842.62|               0.0|          22324.35|         588.13|    Mar-2019|    Apr-2019|\n",
       "|69422542|         7200.0|       539.02|               0.0|   7739.0247995761|         194.79|    Jan-2017|        null|\n",
       "|69652408|         1500.0|       317.81|               0.0|1817.8054757467999|         246.22|    Apr-2018|        null|\n",
       "|68756432|       17271.58|      6819.29|               0.0|          24090.87|         634.47|    Mar-2019|    Apr-2019|\n",
       "+--------+---------------+-------------+------------------+------------------+---------------+------------+------------+\n",
       "only showing top 20 rows"
      ]
     },
     "execution_count": 23,
     "metadata": {},
     "output_type": "execute_result"
    }
   ],
   "source": [
    "loans_repayment_df"
   ]
  },
  {
   "cell_type": "code",
   "execution_count": 24,
   "id": "94c907e9",
   "metadata": {},
   "outputs": [],
   "source": [
    "spark.sql(\"\"\" SELECT\n",
    "    member_id_sha2 as member_id,\n",
    "    delinq_2yrs,\n",
    "    delinq_amnt,\n",
    "    pub_rec,\n",
    "    pub_rec_bankruptcies,\n",
    "    inq_last_6mths,\n",
    "    total_rec_late_fee,\n",
    "    mths_since_last_delinq,\n",
    "    mths_since_last_record \n",
    "FROM lending_club_raw_data_new\n",
    "\"\"\").repartition(1).write\\\n",
    "    .option(\"header\", True)\\\n",
    "    .format(\"csv\")\\\n",
    "    .mode(\"overwrite\")\\\n",
    "    .option(\"path\", \"/user/itv015703/lendingclubproject/raw/loans_defaulters_data_csv\")\\\n",
    "    .save()"
   ]
  },
  {
   "cell_type": "code",
   "execution_count": 26,
   "id": "026bcf8e",
   "metadata": {},
   "outputs": [],
   "source": [
    "loans_defaulters_df = spark.read\\\n",
    ".format(\"csv\")\\\n",
    ".option(\"header\", True)\\\n",
    ".option(\"inferSchema\", True)\\\n",
    ".load(\"/user/itv015703/lendingclubproject/raw/loans_defaulters_data_csv\")"
   ]
  },
  {
   "cell_type": "code",
   "execution_count": 27,
   "id": "0a9e1a51",
   "metadata": {},
   "outputs": [
    {
     "data": {
      "text/html": [
       "<table border='1'>\n",
       "<tr><th>member_id</th><th>delinq_2yrs</th><th>delinq_amnt</th><th>pub_rec</th><th>pub_rec_bankruptcies</th><th>inq_last_6mths</th><th>total_rec_late_fee</th><th>mths_since_last_delinq</th><th>mths_since_last_record</th></tr>\n",
       "<tr><td>bfcec8da7b3f1fe83...</td><td>1.0</td><td>0.0</td><td>0.0</td><td>0.0</td><td>2.0</td><td>0.0</td><td>11.0</td><td>null</td></tr>\n",
       "<tr><td>36399458db4295868...</td><td>0.0</td><td>0.0</td><td>1.0</td><td>1.0</td><td>0.0</td><td>0.0</td><td>null</td><td>63.0</td></tr>\n",
       "<tr><td>e4912b650878ca941...</td><td>0.0</td><td>0.0</td><td>0.0</td><td>0.0</td><td>0.0</td><td>0.0</td><td>67.0</td><td>null</td></tr>\n",
       "<tr><td>3d6f35ad2e2be4572...</td><td>0.0</td><td>0.0</td><td>1.0</td><td>1.0</td><td>0.0</td><td>0.0</td><td>null</td><td>66.0</td></tr>\n",
       "<tr><td>478e1cd37e35c20f7...</td><td>1.0</td><td>0.0</td><td>1.0</td><td>1.0</td><td>0.0</td><td>0.0</td><td>15.0</td><td>108.0</td></tr>\n",
       "<tr><td>a5d42e35cc0be2789...</td><td>0.0</td><td>0.0</td><td>1.0</td><td>1.0</td><td>1.0</td><td>0.0</td><td>null</td><td>83.0</td></tr>\n",
       "<tr><td>7f3ef55c784bf6b16...</td><td>0.0</td><td>0.0</td><td>0.0</td><td>0.0</td><td>0.0</td><td>0.0</td><td>41.0</td><td>null</td></tr>\n",
       "<tr><td>beb30abaeca08f49b...</td><td>2.0</td><td>0.0</td><td>0.0</td><td>0.0</td><td>0.0</td><td>0.0</td><td>14.0</td><td>null</td></tr>\n",
       "<tr><td>233e5e6797dd0a68b...</td><td>0.0</td><td>0.0</td><td>1.0</td><td>1.0</td><td>1.0</td><td>0.0</td><td>58.0</td><td>85.0</td></tr>\n",
       "<tr><td>c4b178ffaf80ed472...</td><td>1.0</td><td>0.0</td><td>0.0</td><td>0.0</td><td>0.0</td><td>0.0</td><td>17.0</td><td>null</td></tr>\n",
       "<tr><td>7f45445bc792b29c7...</td><td>0.0</td><td>0.0</td><td>0.0</td><td>0.0</td><td>0.0</td><td>0.0</td><td>38.0</td><td>null</td></tr>\n",
       "<tr><td>582a9b2d3a658ab05...</td><td>0.0</td><td>0.0</td><td>0.0</td><td>0.0</td><td>0.0</td><td>0.0</td><td>null</td><td>null</td></tr>\n",
       "<tr><td>f67ba01e72eb5f109...</td><td>0.0</td><td>0.0</td><td>0.0</td><td>0.0</td><td>0.0</td><td>0.0</td><td>74.0</td><td>null</td></tr>\n",
       "<tr><td>07e81491adcc0e7c3...</td><td>0.0</td><td>0.0</td><td>0.0</td><td>0.0</td><td>2.0</td><td>0.0</td><td>null</td><td>null</td></tr>\n",
       "<tr><td>6f5c275cbae528914...</td><td>0.0</td><td>0.0</td><td>0.0</td><td>0.0</td><td>0.0</td><td>0.0</td><td>null</td><td>null</td></tr>\n",
       "<tr><td>412a63a98577abf03...</td><td>0.0</td><td>0.0</td><td>0.0</td><td>0.0</td><td>1.0</td><td>0.0</td><td>null</td><td>null</td></tr>\n",
       "<tr><td>47196375e82e575cb...</td><td>1.0</td><td>0.0</td><td>0.0</td><td>0.0</td><td>0.0</td><td>0.0</td><td>21.0</td><td>null</td></tr>\n",
       "<tr><td>6f45755c48f1b4e98...</td><td>2.0</td><td>0.0</td><td>1.0</td><td>1.0</td><td>2.0</td><td>0.0</td><td>15.0</td><td>69.0</td></tr>\n",
       "<tr><td>229e078da68df21b4...</td><td>2.0</td><td>0.0</td><td>0.0</td><td>0.0</td><td>1.0</td><td>0.0</td><td>13.0</td><td>null</td></tr>\n",
       "<tr><td>94e84e829870062c2...</td><td>5.0</td><td>0.0</td><td>0.0</td><td>0.0</td><td>1.0</td><td>0.0</td><td>8.0</td><td>null</td></tr>\n",
       "</table>\n",
       "only showing top 20 rows\n"
      ],
      "text/plain": [
       "+--------------------+-----------+-----------+-------+--------------------+--------------+------------------+----------------------+----------------------+\n",
       "|           member_id|delinq_2yrs|delinq_amnt|pub_rec|pub_rec_bankruptcies|inq_last_6mths|total_rec_late_fee|mths_since_last_delinq|mths_since_last_record|\n",
       "+--------------------+-----------+-----------+-------+--------------------+--------------+------------------+----------------------+----------------------+\n",
       "|bfcec8da7b3f1fe83...|        1.0|        0.0|    0.0|                 0.0|           2.0|               0.0|                  11.0|                  null|\n",
       "|36399458db4295868...|        0.0|        0.0|    1.0|                 1.0|           0.0|               0.0|                  null|                  63.0|\n",
       "|e4912b650878ca941...|        0.0|        0.0|    0.0|                 0.0|           0.0|               0.0|                  67.0|                  null|\n",
       "|3d6f35ad2e2be4572...|        0.0|        0.0|    1.0|                 1.0|           0.0|               0.0|                  null|                  66.0|\n",
       "|478e1cd37e35c20f7...|        1.0|        0.0|    1.0|                 1.0|           0.0|               0.0|                  15.0|                 108.0|\n",
       "|a5d42e35cc0be2789...|        0.0|        0.0|    1.0|                 1.0|           1.0|               0.0|                  null|                  83.0|\n",
       "|7f3ef55c784bf6b16...|        0.0|        0.0|    0.0|                 0.0|           0.0|               0.0|                  41.0|                  null|\n",
       "|beb30abaeca08f49b...|        2.0|        0.0|    0.0|                 0.0|           0.0|               0.0|                  14.0|                  null|\n",
       "|233e5e6797dd0a68b...|        0.0|        0.0|    1.0|                 1.0|           1.0|               0.0|                  58.0|                  85.0|\n",
       "|c4b178ffaf80ed472...|        1.0|        0.0|    0.0|                 0.0|           0.0|               0.0|                  17.0|                  null|\n",
       "|7f45445bc792b29c7...|        0.0|        0.0|    0.0|                 0.0|           0.0|               0.0|                  38.0|                  null|\n",
       "|582a9b2d3a658ab05...|        0.0|        0.0|    0.0|                 0.0|           0.0|               0.0|                  null|                  null|\n",
       "|f67ba01e72eb5f109...|        0.0|        0.0|    0.0|                 0.0|           0.0|               0.0|                  74.0|                  null|\n",
       "|07e81491adcc0e7c3...|        0.0|        0.0|    0.0|                 0.0|           2.0|               0.0|                  null|                  null|\n",
       "|6f5c275cbae528914...|        0.0|        0.0|    0.0|                 0.0|           0.0|               0.0|                  null|                  null|\n",
       "|412a63a98577abf03...|        0.0|        0.0|    0.0|                 0.0|           1.0|               0.0|                  null|                  null|\n",
       "|47196375e82e575cb...|        1.0|        0.0|    0.0|                 0.0|           0.0|               0.0|                  21.0|                  null|\n",
       "|6f45755c48f1b4e98...|        2.0|        0.0|    1.0|                 1.0|           2.0|               0.0|                  15.0|                  69.0|\n",
       "|229e078da68df21b4...|        2.0|        0.0|    0.0|                 0.0|           1.0|               0.0|                  13.0|                  null|\n",
       "|94e84e829870062c2...|        5.0|        0.0|    0.0|                 0.0|           1.0|               0.0|                   8.0|                  null|\n",
       "+--------------------+-----------+-----------+-------+--------------------+--------------+------------------+----------------------+----------------------+\n",
       "only showing top 20 rows"
      ]
     },
     "execution_count": 27,
     "metadata": {},
     "output_type": "execute_result"
    }
   ],
   "source": [
    "loans_defaulters_df"
   ]
  },
  {
   "cell_type": "code",
   "execution_count": 28,
   "id": "015d6298",
   "metadata": {},
   "outputs": [],
   "source": [
    "spark.stop()"
   ]
  },
  {
   "cell_type": "code",
   "execution_count": null,
   "id": "e84fda66",
   "metadata": {},
   "outputs": [],
   "source": []
  }
 ],
 "metadata": {
  "kernelspec": {
   "display_name": "Pyspark 3",
   "language": "python",
   "name": "pyspark3"
  },
  "language_info": {
   "codemirror_mode": {
    "name": "ipython",
    "version": 3
   },
   "file_extension": ".py",
   "mimetype": "text/x-python",
   "name": "python",
   "nbconvert_exporter": "python",
   "pygments_lexer": "ipython3",
   "version": "3.6.12"
  }
 },
 "nbformat": 4,
 "nbformat_minor": 5
}
